{
 "cells": [
  {
   "cell_type": "markdown",
   "id": "bad52900",
   "metadata": {
    "pycharm": {
     "name": "#%% md\n"
    }
   },
   "source": [
    "# Allocazione ottima delle risorse\n",
    "\n",
    "Questo capitolo risolve il problema dell'equilibrio su reti. Per la risoluzione di questo problema si usa\n",
    "l'algoritmo di Frank & Wolfe per la risoluzione del problema di ottimizzazione che ne deriva dal\n",
    "calcolo di equilibrio su reti. Non approfondisco le ipotesi che portano a questa formulazione ma mi limito ad enunciare\n",
    "il problema di programmazione convessa."
   ]
  },
  {
   "cell_type": "code",
   "execution_count": 1,
   "id": "cf9067cb",
   "metadata": {
    "pycharm": {
     "name": "#%%\n"
    }
   },
   "outputs": [],
   "source": [
    "import numpy as np\n",
    "import sympy\n",
    "import sympy as sym\n",
    "from sympy import init_printing\n",
    "import warnings\n",
    "\n",
    "warnings.filterwarnings(\"ignore\", category=UserWarning)\n",
    "from IPython.display import display, Math\n",
    "\n",
    "x1, x2, x3 = sym.symbols('x1, x2, x3')\n",
    "x = sym.Matrix([[x1], [x2], [x3]])\n",
    "Q = sym.Matrix([[1, 0, 0], [0, 1, 0], [0, 0, 0.1]])\n",
    "c = sym.Matrix([[0], [0], [0.55]])"
   ]
  },
  {
   "cell_type": "markdown",
   "id": "cbef3911",
   "metadata": {},
   "source": [
    "Adesso posso visualizzare la funzione obiettivo come espressione bellina"
   ]
  },
  {
   "cell_type": "code",
   "execution_count": 2,
   "id": "2c2c6ad4",
   "metadata": {
    "pycharm": {
     "name": "#%%\n"
    }
   },
   "outputs": [
    {
     "data": {
      "text/latex": [
       "$\\displaystyle \\left[\\begin{matrix}0.5 x_{1}^{2} + 0.5 x_{2}^{2} + 0.05 x_{3}^{2} + 0.55 x_{3}\\end{matrix}\\right]$"
      ],
      "text/plain": [
       "⎡      2         2          2          ⎤\n",
       "⎣0.5⋅x₁  + 0.5⋅x₂  + 0.05⋅x₃  + 0.55⋅x₃⎦"
      ]
     },
     "execution_count": 2,
     "metadata": {},
     "output_type": "execute_result"
    }
   ],
   "source": [
    "init_printing()\n",
    "\n",
    "obj = 0.5 * (x.T * Q * x) + c.T * x\n",
    "obj"
   ]
  },
  {
   "cell_type": "markdown",
   "id": "11877780",
   "metadata": {},
   "source": [
    "Adesso visualizzo anche l'obiettivo al punto iniziale:"
   ]
  },
  {
   "cell_type": "code",
   "execution_count": 3,
   "id": "bc16d587",
   "metadata": {
    "pycharm": {
     "name": "#%%\n"
    }
   },
   "outputs": [
    {
     "data": {
      "text/latex": [
       "$\\displaystyle D(x_0): 0.2945$"
      ],
      "text/plain": [
       "<IPython.core.display.Math object>"
      ]
     },
     "metadata": {},
     "output_type": "display_data"
    }
   ],
   "source": [
    "cost = obj.subs({x1: 0.4, x2: 0.3, x3: 0.3})\n",
    "display(Math(r'D(x_0): {:.4f}'.format(cost[0])))"
   ]
  },
  {
   "cell_type": "markdown",
   "id": "2cea709c",
   "metadata": {},
   "source": [
    "Adesso posso visualizzare la funzione con lo step size e l'aggiornamento"
   ]
  },
  {
   "cell_type": "code",
   "execution_count": 4,
   "id": "f41585ab",
   "metadata": {
    "pycharm": {
     "name": "#%%\n"
    }
   },
   "outputs": [
    {
     "data": {
      "text/latex": [
       "$\\displaystyle d_k: $"
      ],
      "text/plain": [
       "<IPython.core.display.Math object>"
      ]
     },
     "metadata": {},
     "output_type": "display_data"
    },
    {
     "data": {
      "text/latex": [
       "$\\displaystyle \\left[\\begin{matrix}\\overline{x_1} - x_{1}\\\\\\overline{x_2} - x_{2}\\\\\\overline{x_3} - x_{3}\\end{matrix}\\right]$"
      ],
      "text/plain": [
       "⎡\\overline{x_1} - x₁⎤\n",
       "⎢                   ⎥\n",
       "⎢\\overline{x_2} - x₂⎥\n",
       "⎢                   ⎥\n",
       "⎣\\overline{x_3} - x₃⎦"
      ]
     },
     "execution_count": 4,
     "metadata": {},
     "output_type": "execute_result"
    }
   ],
   "source": [
    "x1_bar, x2_bar, x3_bar = sym.symbols('\\overline{x_1}, \\overline{x_2}, \\overline{x_3}')\n",
    "x_bar = sym.Matrix([[x1_bar], [x2_bar], [x3_bar]])\n",
    "d_k = x_bar - x\n",
    "display(Math(r'd_k: '))\n",
    "d_k"
   ]
  },
  {
   "cell_type": "markdown",
   "id": "0f17b3a3",
   "metadata": {},
   "source": [
    "Adesso visualizzo il punto iniziale e mi calcolo il nuovo punto"
   ]
  },
  {
   "cell_type": "code",
   "execution_count": 5,
   "id": "9328933a",
   "metadata": {
    "pycharm": {
     "name": "#%%\n"
    }
   },
   "outputs": [
    {
     "data": {
      "text/latex": [
       "$\\displaystyle x_{k+1}: $"
      ],
      "text/plain": [
       "<IPython.core.display.Math object>"
      ]
     },
     "metadata": {},
     "output_type": "display_data"
    },
    {
     "data": {
      "text/latex": [
       "$\\displaystyle \\left[\\begin{matrix}\\alpha \\left(\\overline{x_1} - x_{1}\\right) + x_{1}\\\\\\alpha \\left(\\overline{x_2} - x_{2}\\right) + x_{2}\\\\\\alpha \\left(\\overline{x_3} - x_{3}\\right) + x_{3}\\end{matrix}\\right]$"
      ],
      "text/plain": [
       "⎡\\alpha⋅(\\overline{x_1} - x₁) + x₁⎤\n",
       "⎢                                 ⎥\n",
       "⎢\\alpha⋅(\\overline{x_2} - x₂) + x₂⎥\n",
       "⎢                                 ⎥\n",
       "⎣\\alpha⋅(\\overline{x_3} - x₃) + x₃⎦"
      ]
     },
     "execution_count": 5,
     "metadata": {},
     "output_type": "execute_result"
    }
   ],
   "source": [
    "a = sym.symbols('\\\\alpha')\n",
    "x_k = x + a * d_k\n",
    "\n",
    "display(Math(r'x_{k+1}: '))\n",
    "x_k"
   ]
  },
  {
   "cell_type": "markdown",
   "id": "03735ed0",
   "metadata": {
    "pycharm": {
     "name": "#%% md\n"
    }
   },
   "source": [
    "Adesso mi calcolo il gradiente"
   ]
  },
  {
   "cell_type": "code",
   "execution_count": 6,
   "id": "096eee83",
   "metadata": {
    "pycharm": {
     "name": "#%%\n"
    }
   },
   "outputs": [
    {
     "data": {
      "text/latex": [
       "$\\displaystyle \\nabla: $"
      ],
      "text/plain": [
       "<IPython.core.display.Math object>"
      ]
     },
     "metadata": {},
     "output_type": "display_data"
    },
    {
     "data": {
      "text/latex": [
       "$\\displaystyle \\left[\\begin{matrix}x_{1}\\\\x_{2}\\\\0.1 x_{3} + 0.55\\end{matrix}\\right]$"
      ],
      "text/plain": [
       "⎡     x₁      ⎤\n",
       "⎢             ⎥\n",
       "⎢     x₂      ⎥\n",
       "⎢             ⎥\n",
       "⎣0.1⋅x₃ + 0.55⎦"
      ]
     },
     "execution_count": 6,
     "metadata": {},
     "output_type": "execute_result"
    }
   ],
   "source": [
    "grad = x.T * Q + c.T\n",
    "display(Math(r'\\nabla: '))\n",
    "grad.T"
   ]
  },
  {
   "cell_type": "markdown",
   "id": "b943a9a8",
   "metadata": {},
   "source": [
    "Adesso mi calcolo ${\\alpha}$ come forma chiusa e nella cella successiva sostituisco i valori:"
   ]
  },
  {
   "cell_type": "code",
   "execution_count": 7,
   "id": "91779d68",
   "metadata": {
    "pycharm": {
     "name": "#%%\n"
    }
   },
   "outputs": [
    {
     "data": {
      "text/latex": [
       "$\\displaystyle \\left[\\begin{matrix}\\frac{- x_{1} \\left(\\overline{x_1} - x_{1}\\right) - x_{2} \\left(\\overline{x_2} - x_{2}\\right) - \\left(\\overline{x_3} - x_{3}\\right) \\left(0.1 x_{3} + 0.55\\right)}{\\left(\\overline{x_1} - x_{1}\\right)^{2} + \\left(\\overline{x_2} - x_{2}\\right)^{2} + \\left(0.1 \\overline{x_3} - 0.1 x_{3}\\right) \\left(\\overline{x_3} - x_{3}\\right)}\\end{matrix}\\right]$"
      ],
      "text/plain": [
       "⎡     -x₁⋅(\\overline{x_1} - x₁) - x₂⋅(\\overline{x_2} - x₂) - (\\overline{x_3} -\n",
       "⎢─────────────────────────────────────────────────────────────────────────────\n",
       "⎢                     2                        2                              \n",
       "⎣(\\overline{x_1} - x₁)  + (\\overline{x_2} - x₂)  + (0.1⋅\\overline{x_3} - 0.1⋅x\n",
       "\n",
       " x₃)⋅(0.1⋅x₃ + 0.55)    ⎤\n",
       "────────────────────────⎥\n",
       "                        ⎥\n",
       "₃)⋅(\\overline{x_3} - x₃)⎦"
      ]
     },
     "execution_count": 7,
     "metadata": {},
     "output_type": "execute_result"
    }
   ],
   "source": [
    "alpha = -(grad * d_k) / (d_k.T * Q * d_k)[0]\n",
    "alpha"
   ]
  },
  {
   "cell_type": "markdown",
   "id": "f299c49c",
   "metadata": {
    "pycharm": {
     "name": "#%% md\n"
    }
   },
   "source": [
    "Adesso sostituisco i valori e verifico:\n",
    "\n",
    "    1. I valori tornano con Gallagher\n",
    "    2. La direzione scelta con Q\n",
    "    3. Calcolo del nuovo punto con il quale calcolare la direzione di discesa\n",
    "\\begin{align} \\overline{x}_{k+1} = argmin {<\\nabla f(x_k), x>} \\quad \\forall\t x \\in C \\end{align}\n",
    "\n",
    "Punto iniziale scelto per far partire l'algoritmo, uso il seguente:"
   ]
  },
  {
   "cell_type": "code",
   "execution_count": 8,
   "id": "23c068c7",
   "metadata": {
    "pycharm": {
     "name": "#%%\n"
    }
   },
   "outputs": [
    {
     "data": {
      "text/latex": [
       "$\\displaystyle \\left[\\begin{matrix}0.4\\\\0.3\\\\0.3\\end{matrix}\\right]$"
      ],
      "text/plain": [
       "⎡0.4⎤\n",
       "⎢   ⎥\n",
       "⎢0.3⎥\n",
       "⎢   ⎥\n",
       "⎣0.3⎦"
      ]
     },
     "execution_count": 8,
     "metadata": {},
     "output_type": "execute_result"
    }
   ],
   "source": [
    "result_x = x.subs({x1: 0.4, x2: 0.3, x3: 0.3})\n",
    "result_x"
   ]
  },
  {
   "cell_type": "markdown",
   "id": "c27f70a4",
   "metadata": {
    "pycharm": {
     "name": "#%% md\n"
    }
   },
   "source": [
    "Uso questa soluzione iniziale:"
   ]
  },
  {
   "cell_type": "code",
   "execution_count": 9,
   "id": "8bef58fa",
   "metadata": {
    "pycharm": {
     "name": "#%%\n"
    }
   },
   "outputs": [
    {
     "data": {
      "text/latex": [
       "$\\displaystyle \\left[\\begin{matrix}1\\\\0\\\\0\\end{matrix}\\right]$"
      ],
      "text/plain": [
       "⎡1⎤\n",
       "⎢ ⎥\n",
       "⎢0⎥\n",
       "⎢ ⎥\n",
       "⎣0⎦"
      ]
     },
     "execution_count": 9,
     "metadata": {},
     "output_type": "execute_result"
    }
   ],
   "source": [
    "result_x_bar = x_bar.subs({x1_bar: 1, x2_bar: 0, x3_bar: 0})\n",
    "result_x_bar"
   ]
  },
  {
   "cell_type": "markdown",
   "id": "1f62ec8d",
   "metadata": {},
   "source": [
    "Mi calcolo la nuova direzione"
   ]
  },
  {
   "cell_type": "code",
   "execution_count": 10,
   "id": "e35b58af",
   "metadata": {
    "pycharm": {
     "name": "#%%\n"
    }
   },
   "outputs": [
    {
     "data": {
      "text/latex": [
       "$\\displaystyle \\left[\\begin{matrix}0.6\\\\-0.3\\\\-0.3\\end{matrix}\\right]$"
      ],
      "text/plain": [
       "⎡0.6 ⎤\n",
       "⎢    ⎥\n",
       "⎢-0.3⎥\n",
       "⎢    ⎥\n",
       "⎣-0.3⎦"
      ]
     },
     "execution_count": 10,
     "metadata": {},
     "output_type": "execute_result"
    }
   ],
   "source": [
    "result_d_k = d_k.subs({x1: 0.4, x2: 0.3, x3: 0.3, x1_bar: 1, x2_bar: 0, x3_bar: 0})\n",
    "result_d_k"
   ]
  },
  {
   "cell_type": "markdown",
   "id": "b44049af",
   "metadata": {},
   "source": [
    "Adesso mi calcolo lo step size con la line minimization"
   ]
  },
  {
   "cell_type": "code",
   "execution_count": 11,
   "id": "7bcbadaa",
   "metadata": {
    "pycharm": {
     "name": "#%%\n"
    }
   },
   "outputs": [
    {
     "data": {
      "text/latex": [
       "$\\displaystyle \\left[\\begin{matrix}0.0522875816993464\\end{matrix}\\right]$"
      ],
      "text/plain": [
       "[0.0522875816993464]"
      ]
     },
     "execution_count": 11,
     "metadata": {},
     "output_type": "execute_result"
    }
   ],
   "source": [
    "step_result = alpha.subs({x1: 0.4, x2: 0.3, x3: 0.3, x1_bar: 1, x2_bar: 0, x3_bar: 0})\n",
    "step_result"
   ]
  },
  {
   "cell_type": "markdown",
   "id": "06cf3b47",
   "metadata": {},
   "source": [
    "Il nuovo punto è"
   ]
  },
  {
   "cell_type": "code",
   "execution_count": 12,
   "id": "c07492e1",
   "metadata": {
    "pycharm": {
     "name": "#%%\n"
    }
   },
   "outputs": [
    {
     "data": {
      "text/plain": [
       "array([[0.431372549019608],\n",
       "       [0.284313725490196],\n",
       "       [0.284313725490196]], dtype=object)"
      ]
     },
     "execution_count": 12,
     "metadata": {},
     "output_type": "execute_result"
    }
   ],
   "source": [
    "calc_x = np.array(x.subs({x1: 0.4, x2: 0.3, x3: 0.3}))\n",
    "calc_a = np.array(a.subs({a: step_result}))\n",
    "calc_d_k = np.array(d_k.subs({x1: 0.4, x2: 0.3, x3: 0.3, x1_bar: 1, x2_bar: 0, x3_bar: 0}))\n",
    "new_point = calc_x + calc_a * calc_d_k\n",
    "new_point"
   ]
  },
  {
   "cell_type": "markdown",
   "id": "530f1847",
   "metadata": {},
   "source": [
    "#### Seconda iterazione\n",
    "Adesso inizio con la nuova iterazione. Inizio col punto che mi sono appena calcolato e pongo:\n",
    "\n",
    "\\begin{align} \\overline{x}_{1} = argmin {<\\nabla f(x_0), x>} \\quad \\forall\t x \\in C \\end{align}\n",
    "\n",
    "Questo me lo calcolo con le condizioni KKT per i problemi con vincoli di simplesso. Dunque il nuovo punto che userò è\n",
    "soluzione del seguente problema\n",
    "\n",
    "\\begin{align} minimize \\sum_{i=1}^{n} \\frac{\\partial f(x_{k})}{\\partial x_{i}}(x_{i}-x_{i}^k) \\\\ st\n",
    "\\sum_{i=1}^{n} x_{i} = 1\n",
    "\\end{align}\n",
    "\n",
    "La soluzione a questo problema è un punto $\\bar{x}_{k} $ il quale ha tutte le coordinate uguali\n",
    "a zero eccezione fatta per una sola coordinata la quale è uguale ad 1. La j-esima coordinata corrisponde a quella\n",
    "coordinata con valore minimo di derivata (vedi le condizioni di KKT per il problema)\n",
    "\n",
    "\\begin{align} j = argmin \\frac{\\partial f(x_{k})}{\\partial x_{i}}\\quad \\forall i =1 ... n \\end{align}"
   ]
  },
  {
   "cell_type": "code",
   "execution_count": 13,
   "id": "872babd1",
   "metadata": {
    "pycharm": {
     "name": "#%%\n"
    }
   },
   "outputs": [
    {
     "data": {
      "text/latex": [
       "$\\displaystyle \\nabla f(x_1): $"
      ],
      "text/plain": [
       "<IPython.core.display.Math object>"
      ]
     },
     "metadata": {},
     "output_type": "display_data"
    },
    {
     "data": {
      "text/latex": [
       "$\\displaystyle \\left[\\begin{matrix}0.431372549019608 & 0.284313725490196 & 0.57843137254902\\end{matrix}\\right]$"
      ],
      "text/plain": [
       "[0.431372549019608  0.284313725490196  0.57843137254902]"
      ]
     },
     "execution_count": 13,
     "metadata": {},
     "output_type": "execute_result"
    }
   ],
   "source": [
    "gradient = grad.subs({x1: new_point[0][0], x2: new_point[1][0], x3: new_point[2][0]})\n",
    "display(Math(r'\\nabla f(x_1): '))\n",
    "gradient"
   ]
  },
  {
   "cell_type": "markdown",
   "id": "6b35de28",
   "metadata": {},
   "source": [
    "Adesso applico le KKT e calcolo il nuovo punto che userò per la direzione di discesa\n",
    "\n",
    "idx_oracle = np.argmax(np.abs(grad))\n",
    "mag_oracle = alpha * np.sign(-grad[idx_oracle])"
   ]
  },
  {
   "cell_type": "markdown",
   "id": "b6f9b61b",
   "metadata": {},
   "source": [
    "Definisco la per il singolo step dell'iterazione poi la lancio dalla funzione FW (principale)"
   ]
  },
  {
   "cell_type": "code",
   "execution_count": 14,
   "id": "68c05ba2",
   "metadata": {
    "pycharm": {
     "name": "#%%\n"
    }
   },
   "outputs": [],
   "source": [
    "def step_iteration(x_k: np.ndarray):\n",
    "    grad = (x_k.T.dot(Q) + c.T).ravel()\n",
    "    idx_oracle = np.argmin(np.abs(grad))\n",
    "    mag_oracle = np.sign(grad[idx_oracle])\n",
    "    d_t = -x_k.copy()\n",
    "    d_t[idx_oracle] += mag_oracle\n",
    "    g_t = - d_t.T.dot(grad).ravel()\n",
    "    step_size = -grad.dot(d_t) / (d_t.T.dot(Q)).dot(d_t)\n",
    "    step_size = np.minimum(step_size, 1.)\n",
    "    x_k = x_k + step_size * d_t\n",
    "    return x_k, g_t, d_t"
   ]
  },
  {
   "cell_type": "markdown",
   "id": "cdcbe25f",
   "metadata": {},
   "source": [
    "Questa è la funzione principale in cui metto tutto insieme"
   ]
  },
  {
   "cell_type": "code",
   "execution_count": 15,
   "id": "eb79e26b",
   "metadata": {
    "pycharm": {
     "name": "#%%\n"
    }
   },
   "outputs": [],
   "source": [
    "Q = np.array([[1, 0, 0], [0, 1, 0], [0, 0, 0.1]])\n",
    "c = np.array([[0], [0], [0.55]])"
   ]
  },
  {
   "cell_type": "markdown",
   "id": "f588bc66",
   "metadata": {},
   "source": [
    "Esecuzione e test obiettivo, direzione se è di discesa, certificato duale"
   ]
  },
  {
   "cell_type": "code",
   "execution_count": 16,
   "id": "900224c9",
   "metadata": {
    "pycharm": {
     "name": "#%%\n"
    }
   },
   "outputs": [
    {
     "data": {
      "text/latex": [
       "$\\displaystyle <\\nabla f(x_2),d_2> : -0.1240$"
      ],
      "text/plain": [
       "<IPython.core.display.Math object>"
      ]
     },
     "metadata": {},
     "output_type": "display_data"
    },
    {
     "data": {
      "text/latex": [
       "$\\displaystyle Dual(x_2): 0.1240$"
      ],
      "text/plain": [
       "<IPython.core.display.Math object>"
      ]
     },
     "metadata": {},
     "output_type": "display_data"
    },
    {
     "name": "stdout",
     "output_type": "stream",
     "text": [
      "Direzione di discesa: \n",
      "[[-0.4]\n",
      " [ 0.7]\n",
      " [-0.3]]\n",
      "Punto calcolato\n",
      "[[0.32473445]\n",
      " [0.43171472]\n",
      " [0.24355083]]\n"
     ]
    }
   ],
   "source": [
    "x_k = np.array([[0.4], [0.3], [0.3]])\n",
    "s_k = np.array([[1], [0], [0]])\n",
    "grad = x_k.T.dot(Q) + c.T\n",
    "point, dual_value, direction = step_iteration(x_k)\n",
    "display(Math(r'<\\nabla f(x_2),d_2> : {:.4f}'.format(direction.T.dot(grad.T).ravel()[0])))\n",
    "display(Math(r'Dual(x_2): {:.4f}'.format(dual_value.ravel()[0])))\n",
    "print(\"Direzione di discesa: \")\n",
    "print(direction)\n",
    "print(\"Punto calcolato\")\n",
    "print(point)"
   ]
  },
  {
   "cell_type": "code",
   "execution_count": 17,
   "id": "900008f0",
   "metadata": {
    "pycharm": {
     "name": "#%%\n"
    }
   },
   "outputs": [
    {
     "data": {
      "text/latex": [
       "$\\displaystyle <\\nabla f(x_3),d_3> : -0.0526$"
      ],
      "text/plain": [
       "<IPython.core.display.Math object>"
      ]
     },
     "metadata": {},
     "output_type": "display_data"
    },
    {
     "data": {
      "text/latex": [
       "$\\displaystyle Dual(x_3): 0.0013$"
      ],
      "text/plain": [
       "<IPython.core.display.Math object>"
      ]
     },
     "metadata": {},
     "output_type": "display_data"
    },
    {
     "name": "stdout",
     "output_type": "stream",
     "text": [
      "Direzione di discesa: \n",
      "[[-0.4950977 ]\n",
      " [ 0.50615651]\n",
      " [-0.01105881]]\n",
      "Punto calcolato\n",
      "[[0.49385908]\n",
      " [0.49510978]\n",
      " [0.01103114]]\n"
     ]
    },
    {
     "data": {
      "text/latex": [
       "$\\displaystyle Objective(x_3): 0.2506$"
      ],
      "text/plain": [
       "<IPython.core.display.Math object>"
      ]
     },
     "metadata": {},
     "output_type": "display_data"
    }
   ],
   "source": [
    "for i in range(1,321):\n",
    "    point, dual_value, direction = step_iteration(point)\n",
    "display(Math(r'<\\nabla f(x_3),d_3> : {:.4f}'.format(direction.T.dot(grad.T).ravel()[0])))\n",
    "display(Math(r'Dual(x_3): {:.4f}'.format(dual_value.ravel()[0])))\n",
    "print(\"Direzione di discesa: \")\n",
    "print(direction)\n",
    "print(\"Punto calcolato\")\n",
    "print(point)\n",
    "obj = 0.5*(point.T.dot(Q)).dot(point) + c.T.dot(point)\n",
    "display(Math(r'Objective(x_3): {:.4f}'.format(obj.ravel()[0])))"
   ]
  }
 ],
 "metadata": {
  "jupytext": {
   "text_representation": {
    "extension": ".md",
    "format_name": "myst",
    "format_version": 0.13,
    "jupytext_version": "1.13.8"
   }
  },
  "kernelspec": {
   "display_name": "Python 3",
   "language": "python",
   "name": "python3"
  },
  "language_info": {
   "codemirror_mode": {
    "name": "ipython",
    "version": 3
   },
   "file_extension": ".py",
   "mimetype": "text/x-python",
   "name": "python",
   "nbconvert_exporter": "python",
   "pygments_lexer": "ipython3",
   "version": "3.8.1"
  },
  "source_map": [
   14,
   23,
   43,
   47,
   58,
   62,
   71,
   75,
   87,
   91,
   105,
   109,
   119,
   123,
   134,
   145,
   156,
   160,
   169,
   173,
   182,
   186,
   195,
   199,
   211,
   231,
   241,
   248,
   252,
   270,
   274,
   283,
   287,
   306
  ]
 },
 "nbformat": 4,
 "nbformat_minor": 5
}