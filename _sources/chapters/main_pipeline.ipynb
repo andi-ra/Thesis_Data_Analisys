{
 "cells": [
  {
   "cell_type": "markdown",
   "id": "64152829",
   "metadata": {},
   "source": [
    "# Albero ricoprente di costo minimo capacitato\n",
    "\n",
    "## Abstract\n",
    "Presento un algoritmo genetico con una codifica specializzata, inizializzazione aleatoria per ottimizzare topologie delle reti di telecomunicazione.Questo problema NP-hard è spesso così\n",
    "vincolato che un'inizializzazione aleatoria e algoritmi genetici standard generano spesso soluzioni inammissibili. Questa strategia di ottimizzazione può essere usata anche per altri problemi simili.\n",
    "\n",
    "## Introduzione\n",
    "Il problema CMST è un'estensione del MST (minimum spanning tree). Un problema che mi chiede di trovare quale struttura\n",
    "garantisca la connessione fra tutti i nodi con il costo minore. Qui considero un solo flusso d'informazioni (o merci),\n",
    "cioè single commodity. In generale queste informazioni scorrono su link di capacità finita da un nodo radice a dei nodi\n",
    "foglia che agiscono da \"sink\" delle informazioni, i consumatori.\n",
    "Il problema più spesso risolto nella pratica è quello del MST; dal quale deriviamo il protocollo di rete STP (spanning tree\n",
    "protocol) di livello link-local (ISO/OSI layer 2). Questa invece è una versione constrained (capacitata) MST.\n",
    "La formulazione proposta in questo progetto va in una direzione diversa,\n",
    "sappiamo che nel caso in cui ci sia un server centrale che spinge informazioni lungo la rete il limite di capacità dei link è ricavabile con un probelma di flusso massimo (risolvibile con ad esempio l'algoritmo di Ford&Fulkerson).\n",
    "* Che dire del caso in cui io abbia decine di nodi collegati al server centrale tramite una dorsale, come valuto la resilienza di una tale rete?\n",
    "* Come posso garantire che il minor numero di utenti si scolleghi dalla rete nel caso in cui la dorsale si interrompa?\n",
    "* Per quale tipo di metrica è meglio ottimizzare, la posa in opera dell'infrastruttura o la latenza sulla linea?\n",
    "* Che dire della ridondanza della rete?\n",
    "\n",
    "Queste sono solo alcune delle domande che posso includere nel modello come \"criteri\" guida decisionali. Nel caso in\n",
    "esame prendo solo in considerazione le prime due domande della lista.\n",
    "\n",
    "    Vorrei limitare il numero di nodi che sono collegati alla radice attraverso un singolo collegamento (dorsale).\n",
    "\n",
    "Un primo modo per risolvere è avere un albero \"bilanciato\", cioè con un numero di nodi circa uguale in ogni ramo della radice. Questo garantisce che, per esempio, se su $ N $ collegamenti uscenti dalla radice se ne interrompesse uno, avrei $ \\frac{1}{N} $ utenti scollegati rispetto al totale. Lo stesso ragionamento lo posso ripetere ricorsivamente per ogni sottoalbero che si diparte dalla sorgente. Ciò che vorrei è limitare il numero massimo di utenti serviti da un certo collegamento, in modo da limitare il numero di utenti scollegati in caso di guasti su quello specifico collegamento.\n",
    "\n",
    "## Formulazione del problema\n",
    "Una rete di telecomunicazioni può essere modellata da un grafo $ G = (N, A) $ con $ N $ insieme dei nodi che qui rappresenta un cliente che si connette alla rete (telecomunicazioni, gas, in generale è una rete di flusso). L'\n",
    "insieme $ A $ è l'insieme degli archi che sono attivi e che collegano i nodi nel grafo, in questo caso rappresentano linee attive ed utilizzabili. La rete si ipotizza usi collegamenti bidirezionali e quindi uso un grafo non\n",
    "orientato. Inoltre ipotizzo che non ci siano archi paralleli (ridondanti), questi in realtà si aggiungono per aumentare il data rate o l'affidabilità. Qui non vengono esaminati, anche se per questo algoritmo non cambia molto.\n",
    "\n",
    "Impostiamo il seguente programma:\n",
    "\n",
    "$$ Min \\sum_{(i,j) \\in A}\\ c_{ij} x_{ij} \\ $$\n",
    "$$ \\sum_{(j,i) \\in A}\\ x_{ij} -  \\sum_{(i,j) \\in A}\\ x_{ij} = b_j\t \\quad \\forall i \\in N \\qquad (1) \\ $$\n",
    "$$ \\sum_{(i,j) \\in A}\\ y_{ij}  \t\\leq 1 \\quad \\forall j \\in N \t\\setminus{i} \\qquad (2) \\ $$\n",
    "$$ \\sum_{(i,j) \\in S}\\ x_{ij}  \t\\leq |S| - 1 \\quad \\forall S \\in N  \\qquad (3) \\ $$\n",
    "$$ x_{ij} \\leq  Qy_{ij}  \t \\quad \\forall (i,j)  \\in A \\qquad (4)\t\\ $$\n",
    "$$ y_{ij} \\in \\{ 0,1 \\}  \t \\quad \\forall (i,j)  \\in A \\qquad (5)\t\\ $$\n",
    "$$ x_{ij} \\geq 0 \t \\quad \\forall (i,j)  \\in A \t\\qquad (6) \\ $$\n",
    "\n",
    "$ y_{ij} $ sono le variabili decisionali (creo un collegamento fra $ i $ e $ j $)\n",
    "\n",
    "$ x_{ij} $ sono le variabili di flusso\n",
    "\n",
    "Questa variante single commodity del problema MST capacitato può essere modificata per accomodare altri tipi di flusso\n",
    "i quali non devono mescolarsi o che devono essere in generale sempre distinguibili (eg. traffico di controllo e traffico\n",
    "utenti) ottenendo la variante multicommodity.\n",
    "\n",
    "#### Descrizione dei vincoli\n",
    "* Il vincolo $ (1) $ è il vincolo di conservazione del flusso, che garantisce che ogni utente venga soddisfatto con la sua\n",
    "richiesta di pacchetti e che i pacchetti non vengano creati o distrutti dal nulla.\n",
    "* Il vincolo $ (2) $ è il vincolo che mi permette di selezionare un solo arco entrante nel generico nodo $ i-esimo $\n",
    "* Il vincolo $ (4) $ è il vincolo di linking. Questo è il vincolo complicante, infatti se $ y_{ij} = 0 $ allora non scorre niente; invece se $ y_{ij} = 1 $ il flusso potrebbe non avere più limiti perché posso porre $ Q \\to \\infty $ (o comunque un big-M). Nel mio caso invece pongo $ Q = n $ con $ n $ un numero opportuno, un upper bound sul numero di nodi serviti da un certo arco. Questo upper bound sarà tanto più stringente quanto più il ramo è vicino alla radice (più sono in alto e più traffico trasporto).\n",
    "* Il vincolo $ (3) $ è il vincolo di subtour elimination, ogni sottoinsieme di $ k $ nodi deve avere al massimo $ k-1 $ archi. Questo potrebbe essere sostituito da i vincoli di Miller-Tucker-Zemlin che sono in numero polinomiale.\n",
    "\n",
    "### Complessità\n",
    "Questo problema a causa dei vincoli di linking è in complessità esponenziale. Questi vincoli legano le variabili\n",
    "decisionali con quelle di flusso.\n",
    "Come primo tentativo potrei fare un rilassamento continuo della variabile binaria $ y_{ij} $. Questo però, porterebbe a snaturare il vincolo logico ottenendo $ y_{ij} \\geq  \\frac{x_{ij}}{Q}$ che per $ Q \\to \\infty $\n",
    "che diverrebbe  $ y_{ij} \\geq 0 $ e cioè un vincolo inutile.\n",
    "Oppure posso tentare di rafforzare la formulazione prendendo un $ Q $p leggermente sopra la capacità massima (dunque non un big-M) e sottraendo la richiesta $ b_j $. Attenzione, è possibile costruire un piccolo esempio che dimostra come questo porta a sottostimare i costi della rete.\n",
    "Costruirsi un rilassamento adeguato non è banale, dunque la prima soluzione euristica che ha dato dei risultati \"accettabili\" è quella dell'algoritmo genetico di seguito descritto.\n",
    "\n",
    "### Ipotesi operative\n",
    "Ora proseguo con le ipotesi operative:\n",
    "1. La locazione di ogni nodo è già fornita\n",
    "2. I nodi sono perfettamente affidabili\n",
    "3. Ogni collegamento è bidirezionale\n",
    "4. Non ci sono collegamenti ridondanti\n",
    "5. I collegamenti sono attivi o rotti\n",
    "6. I fallimenti sono indipendenti fra loro\n",
    "7. Non vengono esaminate riparazioni\n",
    "8. La capacità $ Q $ è fissata ad un valore intero\n",
    "\n",
    "## Algoritmo genetico\n",
    "\n",
    "Inizializzo con tutti gli import e i parametri interattivi."
   ]
  },
  {
   "cell_type": "code",
   "execution_count": 1,
   "id": "0e473ac8",
   "metadata": {
    "pycharm": {
     "name": "#%%\n"
    }
   },
   "outputs": [],
   "source": [
    "import sys\n",
    "sys.path.append(r\"C:\\Users\\DULLA\\PycharmProjects\\Thesis_Data_Analisys\")\n",
    "from random import seed, randint\n",
    "from time import process_time\n",
    "\n",
    "import matplotlib.image as mpimg\n",
    "import matplotlib.pyplot as plt\n",
    "import networkx as nx\n",
    "import numpy as np\n",
    "\n",
    "from CMST_package.population_generator import draw_graph, generate_population, TREE_LIKE_LAYOUT, breeding_mutation, \\\n",
    "self_mutation, prim, measure_branch\n",
    "\n",
    "# MODIFICAMI!\n",
    "NUM_NODES = 10\n",
    "NUMB_GENER = 300\n",
    "MESH_LIKE_LAYOUT = 0\n",
    "HOF_SIZE = 3\n",
    "MAXIMUM_FITNESS = 1000\n",
    "POP_SIZE = 100\n",
    "SELF_MUTATE_PROB = 0.3\n",
    "CROSS_MUTATE_PROB = 0.7\n",
    "ROOT = 5\n",
    "CAPACITY = 4\n",
    "\n",
    "#img = mpimg.imread('../artifacts/flowchart.PNG')\n",
    "#plt.figure(figsize=(12, 12))\n",
    "#plt.axis(\"off\")\n",
    "\n",
    "#imgplot = plt.imshow(img)"
   ]
  },
  {
   "cell_type": "markdown",
   "id": "9514125f",
   "metadata": {},
   "source": [
    "## Matrice di adiacenza aleatoria\n",
    "Per testare l'algoritmo ho bisogno di avere dei grafi di prova. Questi li posso produrre a partire da dati reali (ad esempio posizioni GPS) oppure posso generarli\n",
    "sinteticamente. Ho scelto la seconda strada perché più veloce, non devo stare a trovare dati significati e prepararli."
   ]
  },
  {
   "cell_type": "code",
   "execution_count": 2,
   "id": "255bf894",
   "metadata": {
    "pycharm": {
     "name": "#%%\n"
    }
   },
   "outputs": [],
   "source": [
    "ADJACENCY_MATRIX = [[0 for x in range(NUM_NODES)] for x in range(NUM_NODES)]\n",
    "\n",
    "\n",
    "def random_adjacency_matrix(matrix):\n",
    "    \"\"\"\n",
    "    Funzione che crea una matrice di adiacenza aleatoria per la simulazione dell'algoritmo. Questa sezione è necessaria\n",
    "    per testare come si comporta l'algoritmo al variare del grafo, dei pesi o degli archi cioè di chi collego o no.\n",
    "\n",
    "    QUI IL SEED È PREFISSATO, NON È REALMENTE ALEATORIO, SE LO SI VUOLE ALEATORIO, TOGLIERE IL SEED\n",
    "    #TODO: la firma è simil-C e fa schifo, restituisci la matrice\n",
    "\n",
    "    :param matrix: matrice in cui appoggiare i risultati\n",
    "    :return: matrice del grafo su cui si lavora (da implementare il return)\n",
    "    \"\"\"\n",
    "    global MAXIMUM_FITNESS\n",
    "    for col in range(len(ADJACENCY_MATRIX)):\n",
    "        for row in range(col, len(ADJACENCY_MATRIX[col])):\n",
    "            if col != row:\n",
    "                value = randint(0, 100)\n",
    "            else:\n",
    "                value = sys.maxsize\n",
    "            ADJACENCY_MATRIX[col][row] = value\n",
    "            ADJACENCY_MATRIX[row][col] = value\n",
    "\n",
    "            if row != col:\n",
    "                if value > MAXIMUM_FITNESS:\n",
    "                    MAXIMUM_FITNESS = value\n",
    "                print('{:3}'.format(ADJACENCY_MATRIX[col][row]), end=\" \")\n",
    "                matrix[col][row] = ADJACENCY_MATRIX[col][row]\n",
    "        print()"
   ]
  },
  {
   "cell_type": "markdown",
   "id": "1c2920ec",
   "metadata": {},
   "source": [
    "# Hall of fame\n",
    "Questo notebook descrive il modulo deputato a salvare le migliori soluzioni mai viste e a raccoglierle fino alla presentazione finale.\n",
    "\n",
    "È composto dai seguenti attributi:\n",
    "> 1. individuals: coda degli individui migliori (vedi l'implementazione dell'[individuo](individual.ipynb))\n",
    "> 2. size: dimensione della HOF (quante soluzioni considero le migliori)\n",
    "> 3. paths: lista in cui aggrego tutti gli MST migliori (utile per la visualizzazione)\n",
    "\n",
    "Essendo l'oggetto Hall of Fame un semplice contenitore delle soluzioni migliori, la sua implementazione è piuttosto semplice. Tutto\n",
    "ruota attorno alla coda `individuals` e definisco solo le seguenti operazioni:\n",
    "\n",
    "### Add"
   ]
  },
  {
   "cell_type": "code",
   "execution_count": 3,
   "id": "7325bed0",
   "metadata": {
    "pycharm": {
     "name": "#%%\n"
    }
   },
   "outputs": [
    {
     "name": "stdout",
     "output_type": "stream",
     "text": [
      "    def add(self, individual):\n",
      "        \"\"\"\n",
      "        Aggiungi un nuovo membro alla hall of fame. Ho osservato una nuova soluzione e devo valutare se è il caso di\n",
      "        immetterlo nella hall of fame. Creo una coda ordinata (in ordine di fitness), inserisco gli individui mai visti\n",
      "        e quelli vecchi e poiché le dimensioni fra HOF e popolazione potrebbero essere diverse, fintanto che una delle\n",
      "        due non è vuota continua a immettere gli elementi dalla coda di appoggio alla HOF.\n",
      "\n",
      "        :type individual: Individual\n",
      "        :param individual: Individuo da aggiungere nella HOF\n",
      "        :return:\n",
      "        \"\"\"\n",
      "        temp = q.PriorityQueue()\n",
      "        while not self.individuals.empty():\n",
      "            old_ind = self.individuals.get()\n",
      "            if individual == old_ind:\n",
      "                continue\n",
      "            temp.put(old_ind)\n",
      "        # Se nella coda temporanea non c'è questo individuo allora aggiungi\n",
      "        temp.put(individual)\n",
      "        # Finché hai individui a disposizione e posto nella coda hall of fame, aggiungi in ordine di fitness\n",
      "        while not self.individuals.full() and not temp.empty():\n",
      "            self.individuals.put(temp.get())\n",
      "\n"
     ]
    }
   ],
   "source": [
    "import inspect\n",
    "\n",
    "from CMST_package.hall_of_fame import Hof\n",
    "lines = inspect.getsource(Hof.add)\n",
    "print(lines)"
   ]
  },
  {
   "cell_type": "markdown",
   "id": "c92e3417",
   "metadata": {},
   "source": [
    "Possiamo dire che qui c'è semplicemente un algoritmo che popola una coda con priorità i cui l'ordine è basato sulla fitness. Si distringuono\n",
    "i casi in cui sia la coda sia vuota (prima inizializzazione) e il caso in cui sia piena (nel ciclo evolutivo).\n",
    "Per l'implementazione ed una spiegazione dettagliata del codice fare riferimento alla documentazione.\n",
    "\n",
    "### Update\n",
    "Questa funzioe è un po' più interessante in quanto qui si vede l'operazione di selezione dei migliori. Questa operazione viene fatta\n",
    "prendendo la polazione, ordinandola in base alla fitness e poi selezionando (con uno slicing) i primi `size` elementi e infine\n",
    "questi li rimetto nella coda delle migliori soluzioni.\n",
    "Con una strutta dati del genere sono sicuro che i primi elementi saranno i migliori, questo torna utile nella visualizzazione finale."
   ]
  },
  {
   "cell_type": "code",
   "execution_count": 4,
   "id": "a4dae154",
   "metadata": {
    "pycharm": {
     "name": "#%%\n"
    }
   },
   "outputs": [
    {
     "name": "stdout",
     "output_type": "stream",
     "text": [
      "    def update(self, population):\n",
      "        \"\"\"\n",
      "        Aggiorna la hall of fame poiché è cambiata la popolazione a seguito di un ciclo evolutivo. Il procedimento è il\n",
      "        seguente:\n",
      "        1. Ordina la popolazione in base alla fitness\n",
      "        2. Seleziona i migliori individui (i quali stanno in cima alla coda)\n",
      "        3. Per ognuno di questi individui migliori rimettili nella hall of fame\n",
      "\n",
      "        :type population: list\n",
      "        :param population: popolazione su cui valutare la hall of fame\n",
      "        :return:\n",
      "        \"\"\"\n",
      "        population.sort()\n",
      "        best_candidates = population[0:self.size]  # Slicing della lista e selezione dei migliori (da 0 a N)\n",
      "        for individual in best_candidates:\n",
      "            self.add(individual)\n",
      "\n"
     ]
    }
   ],
   "source": [
    "lines = inspect.getsource(Hof.update)\n",
    "print(lines)"
   ]
  },
  {
   "cell_type": "markdown",
   "id": "054f589f",
   "metadata": {},
   "source": [
    "## Codifica\n",
    "\n",
    "Definisco come soluzione del mio problema una qualunque struttura connessa aciclica che garantisca la copertura di tutti i nodi della rete. Una tale soluzione è un albero ricoprente, quello a cui sono interessato è l'albero\n",
    "ricoprente di costo minimo soggetto al vincolo di capacità che dovrà essere rispettato per ogni singolo arco.\n",
    "Poiché con questo algoritmo genetico in uscita avrò un cromosoma (o una rappresentazione equivalente) la soluzione dunque è il cromosoma vincente di fra tutta la popolazione. A questo proposito devo rappresentare:\n",
    "1. Cosa è un cromosoma\n",
    "2. Come è fatto un cromosoma\n",
    "\n",
    "[Savic e Walter](https://doi.org/10.1080/03052150512331303436) hanno usato stringhe di interi a lunghezza variabile per rappresentare una rete di distribuzione idrica.\n",
    "\n",
    "Consultare il seguente notebook riguardante l'[individuo](individual.ipynb) soluzione e la sua codifica.\n",
    "\n",
    "# Codifica dell'individuo\n",
    "\n",
    "Nel rappresentare una soluzione bisogna usare una struttura a grafo, più precisamente uno spanning tree con il costo globalmente minore e che rispetti il vincolo di capacità.\n",
    "\n",
    "## Descrizione strutture dati\n",
    "\n",
    "Per fare ciò uso l'oggetto `individual` che rappresenta un individuo della popolazione. Ogni oggetto contiene al suo interno:\n",
    "- __tree__ che è la lista di tuple che implementa l'albero\n",
    "- __fitness__ che rappresenta la fitness della soluzione\n",
    "- __optim_type__ flag che indica se sto minimizzando o massimizzando\n",
    "- __genotype__ lista di interi a lunghezza variabile che rappresenta la rete\n",
    "\n",
    "## Aspetti salienti\n",
    "La scopo principale dell'oggetto `individual` è quello di rappresentarmi la rete in modo maneggiabile. Per farlo creo la rete e la memorizzo nell'attributo _genotype_, così che\n",
    "ogni individuo sia (all'inizio) una rete completa e poi a fine elaborazione un grafo (sperabilmente) soluzione.\n",
    "Ogni link possibile gli viene assegnato un intero che segnala la presenza dell'arco. Non solo questo intero segnala la presenza dell'arco ma rappresenta anche il\n",
    "peso dell'arco stesso nella lista _ordinata_. Ogni lista può definire in modo univoco quali collegamenti esistono e quali no.\n",
    "\n",
    "Mi appresto a dimostrare la seguente proposizione: la rappresentazione genoma <-> grafo è biunivoca e corretta.\n",
    "Questa proposizione implica che è possibile partire da una rappresentazione (compatibile con le librerie usate) sotto forma di grafo, ed arrivare ad una\n",
    "rappresentazione sotto forma di genoma (cioè lista di interi a lunghezza variabile) _e_ _viceversa_.\n",
    "### dimostrazione"
   ]
  },
  {
   "cell_type": "code",
   "execution_count": 5,
   "id": "67f4ff8b",
   "metadata": {
    "pycharm": {
     "name": "#%%\n"
    }
   },
   "outputs": [],
   "source": [
    "import numpy as np\n",
    "from CMST_package.individual import Individual\n",
    "from CMST_package.population_generator import draw_graph\n",
    "import networkx as nx"
   ]
  },
  {
   "cell_type": "markdown",
   "id": "59b251ee",
   "metadata": {},
   "source": [
    "Costruisco il grafo assegnando come peso (ed etichetta identificativa) la coppia nodo-sorgente/nodo-destinatario dunque $ C_{ij} = sorgente|destinazione $"
   ]
  },
  {
   "cell_type": "code",
   "execution_count": 6,
   "id": "75ef61d7",
   "metadata": {
    "pycharm": {
     "name": "#%%\n"
    }
   },
   "outputs": [],
   "source": [
    "G = nx.complete_graph(6)\n",
    "G[0][1]['weight'] = \"01\"\n",
    "G[0][2]['weight'] = \"02\"\n",
    "G[0][3]['weight'] = \"03\"\n",
    "G[0][4]['weight'] = \"04\"\n",
    "G[0][5]['weight'] = \"05\"\n",
    "G[1][2]['weight'] = \"12\"\n",
    "G[1][3]['weight'] = \"13\"\n",
    "G[1][4]['weight'] = \"14\"\n",
    "G[1][5]['weight'] = \"15\"\n",
    "G[2][3]['weight'] = \"23\"\n",
    "G[2][4]['weight'] = \"24\"\n",
    "G[2][5]['weight'] = \"25\"\n",
    "G[3][4]['weight'] = \"34\"\n",
    "G[3][5]['weight'] = \"35\"\n",
    "G[4][5]['weight'] = \"45\""
   ]
  },
  {
   "cell_type": "markdown",
   "id": "5d221128",
   "metadata": {},
   "source": [
    "Creo e visualizzo il grafo full mesh con $ n*(n-1) $ archi, dove $ n $ è il numero di nodi nella rete, in questo caso 6. per cambiare numero nodi, modificare la sezione precedente."
   ]
  },
  {
   "cell_type": "code",
   "execution_count": 7,
   "id": "d6b81415",
   "metadata": {
    "pycharm": {
     "name": "#%%\n"
    }
   },
   "outputs": [
    {
     "data": {
      "image/png": "[encoded data removed]",
      "text/plain": [
       "<Figure size 432x288 with 1 Axes>"
      ]
     },
     "metadata": {
      "filenames": {
       "image/png": "C:\\Users\\DULLA\\PycharmProjects\\Thesis_Data_Analisys\\tesi-andi\\_build\\jupyter_execute\\chapters\\main_pipeline_13_0.png"
      }
     },
     "output_type": "display_data"
    },
    {
     "data": {
      "text/plain": [
       "<Figure size 864x864 with 0 Axes>"
      ]
     },
     "metadata": {},
     "output_type": "display_data"
    }
   ],
   "source": [
    "draw_graph(G, 0)"
   ]
  },
  {
   "cell_type": "markdown",
   "id": "88e4b4e6",
   "metadata": {},
   "source": [
    "A questo punto genero la lista di adiacenza in modo da facilitare la conversione in lista normale. Segue poi la visualizzazione della lista di adiacenza."
   ]
  },
  {
   "cell_type": "code",
   "execution_count": 8,
   "id": "73c36adf",
   "metadata": {
    "pycharm": {
     "name": "#%%\n"
    }
   },
   "outputs": [
    {
     "name": "stdout",
     "output_type": "stream",
     "text": [
      "Matrice di adiacenza: \n",
      "Il nodo 0 è connesso con i seguenti nodi: \t0 1 2 3 4 5\n",
      "Il nodo 1 è connesso con i seguenti nodi: \t1 2 3 4 5\n",
      "Il nodo 2 è connesso con i seguenti nodi: \t2 3 4 5\n",
      "Il nodo 3 è connesso con i seguenti nodi: \t3 4 5\n",
      "Il nodo 4 è connesso con i seguenti nodi: \t4 5\n",
      "Il nodo 5 è connesso con i seguenti nodi: \t5\n"
     ]
    }
   ],
   "source": [
    "print(\"Matrice di adiacenza: \")\n",
    "adj_list = nx.generate_adjlist(G)\n",
    "\n",
    "string = \"\"\n",
    "i = 0\n",
    "for arc in adj_list:\n",
    "    print(\"Il nodo {0} è connesso con i seguenti nodi: \\t{1}\".format(i, arc))\n",
    "    string += arc\n",
    "    i += 1"
   ]
  },
  {
   "cell_type": "markdown",
   "id": "b7eeba74",
   "metadata": {},
   "source": [
    "Da notare come la matrice sia triangolare, questo poiché il grafo è _non_ orientato e quindi la lista di adiacenza stampata in forma matriciale non riporta gli\n",
    "archi in verso opposto. Attenzione alla prima colonna, quelli sono tutti collegamenti loopback, nella matrice di adiacenza sarebbero sulla diagonale. In questo caso\n",
    "non vengono considerati e in seguito verranno scartati.\n",
    "\n",
    "Ora proseguo con il mostrare come convertire questa rappresentazione lista-adiacenza in genoma in step successivi:\n",
    "    1. Reshaping della lista di adiacenza in un vettore 1-d"
   ]
  },
  {
   "cell_type": "code",
   "execution_count": 9,
   "id": "97521d88",
   "metadata": {
    "pycharm": {
     "name": "#%%\n"
    }
   },
   "outputs": [
    {
     "name": "stdout",
     "output_type": "stream",
     "text": [
      "La lista srotolata in formato simil-genoma è: \n",
      "\t['0', '1', '2', '3', '4', '5', '1', '2', '3', '4', '5', '2', '3', '4', '5', '3', '4', '5', '4', '5', '5']\n"
     ]
    }
   ],
   "source": [
    "lista = [item for item in string if item != ' ']\n",
    "print(\"La lista srotolata in formato simil-genoma è: \\n\\t{0}\".format(lista))"
   ]
  },
  {
   "cell_type": "markdown",
   "id": "a2c23f1f",
   "metadata": {},
   "source": [
    "    2. A questo punto creo un nuovo individuo di prova e gli assegno la lista di adiacenza srotolata come genoma."
   ]
  },
  {
   "cell_type": "code",
   "execution_count": 10,
   "id": "9dc61a01",
   "metadata": {
    "pycharm": {
     "name": "#%%\n"
    }
   },
   "outputs": [
    {
     "name": "stdout",
     "output_type": "stream",
     "text": [
      "['0', '1', '2', '3', '4', '5', '1', '2', '3', '4', '5', '2', '3', '4', '5', '3', '4', '5', '4', '5', '5']\n"
     ]
    }
   ],
   "source": [
    "ind = Individual(size=10, min=1, iter_range=256)\n",
    "ind.genotype = lista\n",
    "print(ind.genotype)"
   ]
  },
  {
   "cell_type": "markdown",
   "id": "25f01f1c",
   "metadata": {},
   "source": [
    "Qui vediamo la correttezza dell'operazione in un verso, da grafo l'ho trasformato in genoma.\n",
    "\n",
    "Adesso il viceversa. Partendo dallo steso individuo voglio, partendo dal suo genoma, ottenere il grafo originario:\n",
    "\n",
    "    1. Faccio il reshaping del genoma in lista di adiacenza (in forma matriciale), attenzione l'etichetta dell'arco è composta da _sorgente|destinazione|index_"
   ]
  },
  {
   "cell_type": "code",
   "execution_count": 11,
   "id": "59f4878f",
   "metadata": {
    "pycharm": {
     "name": "#%%\n"
    }
   },
   "outputs": [
    {
     "name": "stdout",
     "output_type": "stream",
     "text": [
      "[['0' '104' '204' '305' '402' '505']\n",
      " ['014' '0' '215' '311' '413' '512']\n",
      " ['024' '125' '0' '322' '424' '523']\n",
      " ['035' '131' '232' '0' '435' '534']\n",
      " ['042' '143' '244' '345' '0' '545']\n",
      " ['055' '152' '253' '354' '455' '0']]\n"
     ]
    }
   ],
   "source": [
    "matrix = np.array(ind.reshape2matrix(NUM_NODES=6))\n",
    "n = matrix.shape[0]\n",
    "matrix[range(n), range(n)] = \"0\"\n",
    "print(matrix)"
   ]
  },
  {
   "cell_type": "markdown",
   "id": "02aeaff3",
   "metadata": {},
   "source": [
    "    2. Creo una nuova matrice dei risultati eliminando la diagonale (in realtà la pongo a zero per problemi di incompatibilità fra librerie)"
   ]
  },
  {
   "cell_type": "code",
   "execution_count": 12,
   "id": "1f86e478",
   "metadata": {
    "pycharm": {
     "name": "#%%\n"
    }
   },
   "outputs": [
    {
     "name": "stdout",
     "output_type": "stream",
     "text": [
      "[[ 0 10 20 30 40 50]\n",
      " [ 1  0 21 31 41 51]\n",
      " [ 2 12  0 32 42 52]\n",
      " [ 3 13 23  0 43 53]\n",
      " [ 4 14 24 34  0 54]\n",
      " [ 5 15 25 35 45  0]]\n"
     ]
    }
   ],
   "source": [
    "shape = matrix.shape\n",
    "result = np.zeros(shape, dtype=int)\n",
    "for x in range(0, shape[0]):\n",
    "    for y in range(0, shape[1]):\n",
    "        result[x, y] = str(matrix[x, y])[0:2]\n",
    "print(result)"
   ]
  },
  {
   "cell_type": "markdown",
   "id": "ef4beaad",
   "metadata": {},
   "source": [
    "    3. Visualizzazione del grafo a partire dalla lista di adiacenza, mi aspetto sia lo stesso grafo visualizzato all'inizio."
   ]
  },
  {
   "cell_type": "code",
   "execution_count": 13,
   "id": "a2c42395",
   "metadata": {
    "pycharm": {
     "name": "#%%\n"
    }
   },
   "outputs": [
    {
     "data": {
      "image/png": "[encoded data removed]",
      "text/plain": [
       "<Figure size 432x288 with 1 Axes>"
      ]
     },
     "metadata": {
      "filenames": {
       "image/png": "C:\\Users\\DULLA\\PycharmProjects\\Thesis_Data_Analisys\\tesi-andi\\_build\\jupyter_execute\\chapters\\main_pipeline_25_0.png"
      }
     },
     "output_type": "display_data"
    },
    {
     "data": {
      "text/plain": [
       "<Figure size 864x864 with 0 Axes>"
      ]
     },
     "metadata": {},
     "output_type": "display_data"
    }
   ],
   "source": [
    "g = nx.from_numpy_matrix(result, create_using=nx.DiGraph)\n",
    "draw_graph(g, layout=0)"
   ]
  },
  {
   "cell_type": "markdown",
   "id": "d4795e78",
   "metadata": {},
   "source": [
    "A meno di alcuni difetti dovuti alla gestione Python delle stringhe, i grafi sono gli stessi. In pratica `01` non è possibile visualizzarlo poiché diventa `1` dato che viene trattato\n",
    "come un intero e non un'etichetta.\n",
    "\n",
    "## Reshaping function\n",
    "Per riarrotolare il genoma dell'individuo devo tenere conto del fatto che il genoma è una versione undimensionale della matrice di adiacenza e che la matrice dei costi è una versione\n",
    "bidimensionale della lista di adiacenza. Sono entrambe rappresentazioni dei costi ma con forme (dimensioni) diverse. La sezione di codice che esegue l'operazione di riarrotolamento\n",
    "è la seguente:\n",
    "\n",
    "```\n",
    "python\n",
    "   L = max(row, col)                            # ['0', '1', '2', '3', '4', '5', '1', '2', '3', '4'\n",
    "   S = min(row, col)                            # 1° step seleziono 0 poi con l'indice L scorro verso\n",
    "   index = L * (L - 1) / 2                      # destra, ottenendo (0, 1) -> (0,2) e così via\n",
    "   index += S - 1                               # uso l'indice _index_ come terza cifra per far capire\n",
    "   index -= L                                   # a che passaggio ero quando ho ricostruito quell'arco\n",
    "   matrix[col][row] = genome[row]               # sommo (o concateno) i singoli geni del genotipo.\n",
    "   matrix[col][row] += genome[col]              # nella diagonale avrò sys.maxsize, cioè un peso infinito\n",
    "   matrix[col][row] += genome[int(index)]       # poiché non voglio archi loopback\n",
    "```\n",
    "\n",
    "\n",
    "## Descrizione dell'algoritmo\n",
    "\n",
    "Per rendere la ricerca efficiente la popolazione iniziale consiste di reti a mesh rappresentate dall'individuo con genoma composto da $ \\frac{n*(n-1)}{2}  $ interi.\n",
    "In sostanza tratto una popolazione come una lista di individui. Per una descrizione delle funzioni usate per l'evoluzione della popolazione\n",
    "e la fitness dell'individuo consultare il file riguadante la [popolazione](population_generator.ipynb).\n",
    "\n",
    "> 1. Setup dell'algoritmo\n",
    "\n",
    "        * Settaggio dei parametri\n",
    "        * Matrice `ADJACENCY_MATRIX` come matrice iniziale in cui effetturae gli step intermedi (per non sporcare quella buona finale)"
   ]
  },
  {
   "cell_type": "markdown",
   "id": "f7be6766",
   "metadata": {},
   "source": [
    "> 2. Inizializzazione dell'algoritmo, creo la matrice di adiacenza aleatoria e la visualizzo"
   ]
  },
  {
   "cell_type": "code",
   "execution_count": 14,
   "id": "b4d3d3f7",
   "metadata": {
    "pycharm": {
     "name": "#%%\n"
    }
   },
   "outputs": [
    {
     "name": "stdout",
     "output_type": "stream",
     "text": [
      " 73   4  54  61  73   1  26  59  62 \n",
      " 35  83  20   4  66  62  41   9 \n",
      " 31  95  46   5  53  17  77 \n",
      " 45  48  53  36  86  33 \n",
      " 58  22  87  38  84 \n",
      " 46  17  58  98 \n",
      " 30  56  78 \n",
      " 48   5 \n",
      " 74 \n",
      "\n"
     ]
    },
    {
     "data": {
      "image/png": "[encoded data removed]",
      "text/plain": [
       "<Figure size 432x288 with 1 Axes>"
      ]
     },
     "metadata": {
      "filenames": {
       "image/png": "C:\\Users\\DULLA\\PycharmProjects\\Thesis_Data_Analisys\\tesi-andi\\_build\\jupyter_execute\\chapters\\main_pipeline_28_1.png"
      }
     },
     "output_type": "display_data"
    },
    {
     "data": {
      "text/plain": [
       "<Figure size 864x864 with 0 Axes>"
      ]
     },
     "metadata": {},
     "output_type": "display_data"
    }
   ],
   "source": [
    "from CMST_package.hall_of_fame import Hof\n",
    "\n",
    "seed(10)\n",
    "Mat = np.zeros((NUM_NODES, NUM_NODES))\n",
    "random_adjacency_matrix(Mat)\n",
    "g = nx.from_numpy_matrix(Mat, create_using=nx.DiGraph)\n",
    "draw_graph(g, MESH_LIKE_LAYOUT)"
   ]
  },
  {
   "cell_type": "markdown",
   "id": "8f71fedc",
   "metadata": {},
   "source": [
    "> 2. Inizializzo la Hall of Fame per memorizzare le migliori soluzioni"
   ]
  },
  {
   "cell_type": "code",
   "execution_count": 15,
   "id": "45aadbac",
   "metadata": {
    "pycharm": {
     "name": "#%%\n"
    }
   },
   "outputs": [],
   "source": [
    "hall_of_fame = Hof(HOF_SIZE)"
   ]
  },
  {
   "cell_type": "markdown",
   "id": "21dff330",
   "metadata": {},
   "source": [
    "> 3. Genero una popolazione con la quale lanciare l'algoritmo"
   ]
  },
  {
   "cell_type": "code",
   "execution_count": 16,
   "id": "d06bbb54",
   "metadata": {
    "pycharm": {
     "name": "#%%\n"
    }
   },
   "outputs": [],
   "source": [
    "genome = generate_population(POP_SIZE + (POP_SIZE % 2), int(NUM_NODES * (NUM_NODES + 1) / 2))"
   ]
  },
  {
   "cell_type": "markdown",
   "id": "9c1f7bdd",
   "metadata": {},
   "source": [
    "> 4. Valutazione della fitness di ogni individuo della popolazione e modifica dei parametri degli individui (riporto il codice per comodità)"
   ]
  },
  {
   "cell_type": "code",
   "execution_count": 17,
   "id": "5b1a2037",
   "metadata": {
    "pycharm": {
     "name": "#%%\n"
    }
   },
   "outputs": [],
   "source": [
    "def fitness_evaluation(individuals):\n",
    "    for ind in individuals:\n",
    "        matrix = ind.reshape2matrix(NUM_NODES)\n",
    "\n",
    "        # Apply Prim's Algorithm to get Tree\n",
    "        tree = prim(matrix)\n",
    "\n",
    "        # Depth first search starting from ROOT\n",
    "        over_capacity = False\n",
    "        for edge in tree:\n",
    "            temp_weight = 0\n",
    "            if edge[0] == ROOT:\n",
    "                temp_weight = measure_branch(tree, edge[1], ROOT)\n",
    "            elif edge[1] == ROOT:\n",
    "                temp_weight = measure_branch(tree, edge[0], ROOT)\n",
    "            if temp_weight > CAPACITY:\n",
    "                ind.tree = tree\n",
    "                ind.fitness = MAXIMUM_FITNESS\n",
    "                over_capacity = True\n",
    "\n",
    "        # Get weight of converted representation if under capacity\n",
    "        if not over_capacity:\n",
    "            weight = 0\n",
    "            for edge in tree:\n",
    "                (col, row) = edge\n",
    "                weight += ADJACENCY_MATRIX[col - 1][row - 1]\n",
    "            ind.tree = tree\n",
    "            ind.fitness = weight\n",
    "\n",
    "\n",
    "fitness_evaluation(genome)"
   ]
  },
  {
   "cell_type": "markdown",
   "id": "5e22cbc3",
   "metadata": {},
   "source": [
    "> 5. Inizio a popolare la Hall of Fame e visualizzare le migliori soluzioni intermedie"
   ]
  },
  {
   "cell_type": "code",
   "execution_count": 18,
   "id": "7295624a",
   "metadata": {
    "pycharm": {
     "name": "#%%\n"
    }
   },
   "outputs": [
    {
     "name": "stdout",
     "output_type": "stream",
     "text": [
      "Fitness: 328\n",
      "Tree: [(1, 5), (1, 10), (5, 7), (5, 2), (2, 9), (7, 6), (1, 8), (7, 3), (5, 4)]\n",
      "\n",
      "Fitness: 374\n",
      "Tree: [(1, 7), (7, 5), (5, 2), (5, 3), (7, 8), (7, 9), (2, 10), (2, 4), (5, 6)]\n",
      "\n",
      "Fitness: 417\n",
      "Tree: [(1, 5), (5, 6), (5, 3), (5, 2), (5, 8), (2, 10), (1, 7), (2, 9), (5, 4)]\n",
      "\n",
      "\n"
     ]
    }
   ],
   "source": [
    "hall_of_fame.update(genome)\n",
    "print(hall_of_fame)"
   ]
  },
  {
   "cell_type": "markdown",
   "id": "638d816e",
   "metadata": {},
   "source": [
    "> 6. Loop evolutivo\n",
    "        * Mutazione crossover\n",
    "        * Mutazione singola dalla popolazione in uscita dal crossover\n",
    "        * Valutazione della fitness\n",
    "        * Update della Hall of Fame"
   ]
  },
  {
   "cell_type": "code",
   "execution_count": 19,
   "id": "58c6eeb1",
   "metadata": {
    "pycharm": {
     "name": "#%%\n"
    }
   },
   "outputs": [],
   "source": [
    "start = process_time()\n",
    "\n",
    "for cur_gen in range(NUMB_GENER):\n",
    "    new_chromosome = breeding_mutation(genome, CROSS_MUTATE_PROB)\n",
    "    genome = self_mutation(new_chromosome, SELF_MUTATE_PROB)\n",
    "    fitness_evaluation(genome)\n",
    "    hall_of_fame.update(genome)\n",
    "\n",
    "stop = process_time()"
   ]
  },
  {
   "cell_type": "markdown",
   "id": "dc6d7329",
   "metadata": {},
   "source": [
    "> 7. Visualizzazione dei risultati"
   ]
  },
  {
   "cell_type": "code",
   "execution_count": 20,
   "id": "a535519d",
   "metadata": {
    "pycharm": {
     "name": "#%%\n"
    }
   },
   "outputs": [
    {
     "name": "stdout",
     "output_type": "stream",
     "text": [
      "Fitness: 335\n",
      "Tree: [(1, 5), (1, 8), (8, 6), (8, 2), (5, 7), (5, 4), (5, 9), (4, 3), (4, 10)]\n",
      "\n",
      "Fitness: 391\n",
      "Tree: [(1, 5), (5, 6), (6, 7), (1, 8), (5, 9), (1, 10), (5, 4), (6, 3), (10, 2)]\n",
      "\n",
      "Fitness: 419\n",
      "Tree: [(1, 9), (9, 3), (3, 5), (5, 4), (5, 2), (5, 7), (4, 8), (3, 10), (4, 6)]\n",
      "\n",
      "\n",
      "Time:  6.5\n",
      "ROOT:  5\n",
      "CAPACITY:  4\n"
     ]
    }
   ],
   "source": [
    "print(hall_of_fame)\n",
    "print(\"Time: \", stop - start)\n",
    "print(\"ROOT: \", ROOT)\n",
    "print(\"CAPACITY: \", CAPACITY)"
   ]
  },
  {
   "cell_type": "markdown",
   "id": "2410c433",
   "metadata": {},
   "source": [
    "> 8. Plot di alcune soluzioni fra le migliori"
   ]
  },
  {
   "cell_type": "code",
   "execution_count": 21,
   "id": "d8821993",
   "metadata": {
    "pycharm": {
     "name": "#%%\n"
    }
   },
   "outputs": [
    {
     "name": "stdout",
     "output_type": "stream",
     "text": [
      "[(1, 5), (1, 10), (5, 7), (5, 2), (2, 9), (7, 6), (1, 8), (7, 3), (5, 4)]\n"
     ]
    },
    {
     "data": {
      "image/png": "[encoded data removed]",
      "text/plain": [
       "<Figure size 432x288 with 1 Axes>"
      ]
     },
     "metadata": {
      "filenames": {
       "image/png": "C:\\Users\\DULLA\\PycharmProjects\\Thesis_Data_Analisys\\tesi-andi\\_build\\jupyter_execute\\chapters\\main_pipeline_42_1.png"
      }
     },
     "output_type": "display_data"
    },
    {
     "data": {
      "text/plain": [
       "<Figure size 864x864 with 0 Axes>"
      ]
     },
     "metadata": {},
     "output_type": "display_data"
    },
    {
     "name": "stdout",
     "output_type": "stream",
     "text": [
      "[(1, 7), (7, 5), (5, 2), (5, 3), (7, 8), (7, 9), (2, 10), (2, 4), (5, 6)]\n"
     ]
    },
    {
     "data": {
      "image/png": "[encoded data removed]",
      "text/plain": [
       "<Figure size 432x288 with 1 Axes>"
      ]
     },
     "metadata": {
      "filenames": {
       "image/png": "C:\\Users\\DULLA\\PycharmProjects\\Thesis_Data_Analisys\\tesi-andi\\_build\\jupyter_execute\\chapters\\main_pipeline_42_4.png"
      }
     },
     "output_type": "display_data"
    },
    {
     "data": {
      "text/plain": [
       "<Figure size 864x864 with 0 Axes>"
      ]
     },
     "metadata": {},
     "output_type": "display_data"
    },
    {
     "name": "stdout",
     "output_type": "stream",
     "text": [
      "[(1, 5), (5, 6), (5, 3), (5, 2), (5, 8), (2, 10), (1, 7), (2, 9), (5, 4)]\n"
     ]
    },
    {
     "data": {
      "image/png": "[encoded data removed]",
      "text/plain": [
       "<Figure size 432x288 with 1 Axes>"
      ]
     },
     "metadata": {
      "filenames": {
       "image/png": "C:\\Users\\DULLA\\PycharmProjects\\Thesis_Data_Analisys\\tesi-andi\\_build\\jupyter_execute\\chapters\\main_pipeline_42_7.png"
      }
     },
     "output_type": "display_data"
    },
    {
     "data": {
      "text/plain": [
       "<Figure size 864x864 with 0 Axes>"
      ]
     },
     "metadata": {},
     "output_type": "display_data"
    },
    {
     "name": "stdout",
     "output_type": "stream",
     "text": [
      "[(1, 5), (1, 8), (8, 6), (8, 2), (5, 7), (5, 4), (5, 9), (4, 3), (4, 10)]\n"
     ]
    },
    {
     "data": {
      "image/png": "[encoded data removed]",
      "text/plain": [
       "<Figure size 432x288 with 1 Axes>"
      ]
     },
     "metadata": {
      "filenames": {
       "image/png": "C:\\Users\\DULLA\\PycharmProjects\\Thesis_Data_Analisys\\tesi-andi\\_build\\jupyter_execute\\chapters\\main_pipeline_42_10.png"
      }
     },
     "output_type": "display_data"
    },
    {
     "data": {
      "text/plain": [
       "<Figure size 864x864 with 0 Axes>"
      ]
     },
     "metadata": {},
     "output_type": "display_data"
    },
    {
     "name": "stdout",
     "output_type": "stream",
     "text": [
      "[(1, 5), (5, 6), (6, 7), (1, 8), (5, 9), (1, 10), (5, 4), (6, 3), (10, 2)]\n"
     ]
    },
    {
     "data": {
      "image/png": "[encoded data removed]",
      "text/plain": [
       "<Figure size 432x288 with 1 Axes>"
      ]
     },
     "metadata": {
      "filenames": {
       "image/png": "C:\\Users\\DULLA\\PycharmProjects\\Thesis_Data_Analisys\\tesi-andi\\_build\\jupyter_execute\\chapters\\main_pipeline_42_13.png"
      }
     },
     "output_type": "display_data"
    },
    {
     "data": {
      "text/plain": [
       "<Figure size 864x864 with 0 Axes>"
      ]
     },
     "metadata": {},
     "output_type": "display_data"
    },
    {
     "name": "stdout",
     "output_type": "stream",
     "text": [
      "[(1, 9), (9, 3), (3, 5), (5, 4), (5, 2), (5, 7), (4, 8), (3, 10), (4, 6)]\n"
     ]
    },
    {
     "data": {
      "image/png": "[encoded data removed]",
      "text/plain": [
       "<Figure size 432x288 with 1 Axes>"
      ]
     },
     "metadata": {
      "filenames": {
       "image/png": "C:\\Users\\DULLA\\PycharmProjects\\Thesis_Data_Analisys\\tesi-andi\\_build\\jupyter_execute\\chapters\\main_pipeline_42_16.png"
      }
     },
     "output_type": "display_data"
    },
    {
     "data": {
      "text/plain": [
       "<Figure size 864x864 with 0 Axes>"
      ]
     },
     "metadata": {},
     "output_type": "display_data"
    }
   ],
   "source": [
    "for candidate in hall_of_fame.paths:\n",
    "    candidate = [item for item in candidate if item != (0, 0)]\n",
    "    print(candidate)\n",
    "    G = nx.Graph()\n",
    "    G.add_edges_from(candidate)\n",
    "    draw_graph(G, TREE_LIKE_LAYOUT)"
   ]
  },
  {
   "cell_type": "markdown",
   "id": "243a627b",
   "metadata": {},
   "source": [
    "## Conclusioni\n",
    "\n",
    "Da questi esperimenti eseguiti si vede come la fitness delle varie soluzioni sia piuttosto vicina (in termini percentuali) a quella della miglior soluzione. Ciò vuol dire che se la prima soluzione\n",
    "è molto buona allora anche le altre saranno un pochino peggio ma comunque usabili. Il problema è quando la miglior soluzione ha una fitness vicino al valore `MAXIMUM_FITNESS`, in tal\n",
    "caso è molto probabile trovare qualche soluzione che violi i vincoli o che abbia caratteristiche pessime. In molti casi (verificabile lanciando più volte l'algoritmo) si scopre che le\n",
    "soluzioni con fitness più bassa (e quindi più desiderabili) di solito sono costituite da alberi all'incirca bilanciati. Questo conferma l'intuizione iniziale descritta nella discussione\n",
    "delle possibili modalità di soluzione tramite rilassamento. Un'ultima nota, questo algoritmo essendo un'euristica fornisce soluzioni che non posso sapere se sono ottime, quindi non\n",
    "dovrebbero guidare decisioni sensibili/strategiche ma solo fornire un'indicazione di massima.\n",
    "\n",
    "## Appendice\n",
    "# Generatore della popolazione\n",
    "\n",
    "Questo modulo contiene tutte le funzioni necessarie all'algoritmo genetico. Non prevedo un oggetto \"problema\" con cui agganciare tutti i metodi o gli attributi ma sono\n",
    "distribuiti nel file.\n",
    "\n",
    "## Funzione fitness\n",
    "\n",
    "Definisco la fitness come il costo associato alla soluzione albero nel seguente modo:\n",
    "\n",
    "$\\sum_{(i,j) \\in A} c_{ij}x_{ij} + \\delta(c_{max}(R(\\mathbf{x}) - R_0)^2)$\n",
    "\n",
    "$ \\delta =  \\begin{cases}\n",
    "      0 & R(\\mathbf{x}) < R_0 \\\\\n",
    "      1 & R(\\mathbf{x}) \\ge R_0\n",
    "   \\end{cases} $\n",
    "\n",
    "$ c_{max} = max(c_{ij}) \\qquad R_0 $ è il target di capacità massima che voglio per ogni arco\n",
    "\n",
    "Sia dato un grafo $ G = (N, A) $ e un albero di copertura $T \\subset A $. Definiamo la funzione $R(\\mathbf{x}) : A \\rightarrow \\Re $ con $ \\mathbf{x} \\in T$\n",
    "vettore di archi, come la funzione di conteggio dei nodi che vengono serviti da un certo arco $ x_{ij} $, gli archi appartengono tutti all'albero $T$ sotto esame.\n",
    "Questa funzione mi dice qual è il numero totale di nodi che un certo arco sta servendo.\n",
    "\n",
    "Questa formulazione può essere vista come una formulazione rilassata di quella originale. In particolare ho rilassato con la variabile indicatore il vincolo del\n",
    "rispetto della capacità. Come descritto sopra ho usato una funzione di accumulazione  $ R(\\mathbf{x}) $ e non più la formulazione classica basata su archi.\n",
    "\n",
    "Poiché nella formulazione originale i vincoli accoppianti erano proprio quelli di capacità e sono sempre questi che rendono il problema NP-hard, è naturale lavorare\n",
    "principalmente su questo vincoli e poi pensare all'interezza delle variabili (si veda la formulazione nel file [principale](../../notebook/main_pipeline.ipynb)).\n",
    "\n",
    "Se considerassi $\\delta$ come una sorta di moltiplicatore di Lagrange frutto del rilassamento (col quale penalizzo il non rispetto del vincolo $ R(\\mathbf{x}) < R_0 $)\n",
    "allora ha senso inserire il termine $\\delta(c_{max}(R(\\mathbf{x}) - R_0)^2)$ come penalità nella funzione fitness.\n",
    "\n",
    "## Funzione di conteggio $R(\\mathbf{x})$\n",
    "\n",
    "Per il conteggio si usa la seguente funzione `measure_branch`, si riporta di seguitio il codice per comodità:"
   ]
  },
  {
   "cell_type": "code",
   "execution_count": 22,
   "id": "4e9e9405",
   "metadata": {
    "pycharm": {
     "name": "#%%\n"
    }
   },
   "outputs": [
    {
     "name": "stdout",
     "output_type": "stream",
     "text": [
      "def measure_branch(tree, parent, prev):\n",
      "    \"\"\"\n",
      "    Questa funzione conta in modo ricorsivo quanti nodi ci sono in un certo sottoalbero/brach e mi accumula il tutto.\n",
      "\n",
      "    :param tree:\n",
      "    :param parent:\n",
      "    :param prev:\n",
      "    :return:\n",
      "    \"\"\"\n",
      "    weight = 0\n",
      "    for edge in tree:\n",
      "        if edge[0] == parent and edge[1] != prev:\n",
      "            weight += measure_branch(tree, edge[1], parent)\n",
      "        elif edge[0] != prev and edge[1] == parent:\n",
      "            weight += measure_branch(tree, edge[0], parent)\n",
      "    return weight + 1\n",
      "\n"
     ]
    }
   ],
   "source": [
    "import inspect\n",
    "from random import random, randint\n",
    "\n",
    "import networkx as nx\n",
    "import numpy as np\n",
    "\n",
    "from CMST_package.individual import Individual\n",
    "from CMST_package.population_generator import measure_branch, draw_graph, self_mutation\n",
    "\n",
    "NUM_NODES = 7\n",
    "CAPACITY = 4\n",
    "MAXIMUM_FITNESS = 1000\n",
    "POP_SIZE = 10\n",
    "TOURNAMENT_SIZE = 2\n",
    "breeding_mutation_pb = 0.3\n",
    "\n",
    "lines = inspect.getsource(measure_branch)\n",
    "print(lines)"
   ]
  },
  {
   "cell_type": "markdown",
   "id": "626797a6",
   "metadata": {},
   "source": [
    "La funzione sopra riportata esegue in modo ricorsivo una ricerca simile allo stile breadth-first in modo ricorsivo.\n",
    "Per ulteriori dettagli si veda la documentazione.\n",
    "\n",
    "    1. Creo un individuo di test:"
   ]
  },
  {
   "cell_type": "code",
   "execution_count": 23,
   "id": "acc9f5f4",
   "metadata": {
    "pycharm": {
     "name": "#%%\n"
    }
   },
   "outputs": [],
   "source": [
    "matrix = np.zeros((NUM_NODES, NUM_NODES))\n",
    "ind = Individual(size=int(NUM_NODES * (NUM_NODES + 1) / 2), min=1, iter_range=100)"
   ]
  },
  {
   "cell_type": "markdown",
   "id": "32b534af",
   "metadata": {},
   "source": [
    "    2. Rieseguo la procedura per ritornare dal genoma (aleatorio) del mio [individuo](individual.ipynb) test alla matrice di adiacenza (con cui posso lavorare)"
   ]
  },
  {
   "cell_type": "code",
   "execution_count": 24,
   "id": "81a6ca95",
   "metadata": {
    "pycharm": {
     "name": "#%%\n"
    }
   },
   "outputs": [
    {
     "data": {
      "image/png": "[encoded data removed]",
      "text/plain": [
       "<Figure size 432x288 with 1 Axes>"
      ]
     },
     "metadata": {
      "filenames": {
       "image/png": "C:\\Users\\DULLA\\PycharmProjects\\Thesis_Data_Analisys\\tesi-andi\\_build\\jupyter_execute\\chapters\\main_pipeline_48_0.png"
      }
     },
     "output_type": "display_data"
    },
    {
     "data": {
      "text/plain": [
       "<Figure size 864x864 with 0 Axes>"
      ]
     },
     "metadata": {},
     "output_type": "display_data"
    }
   ],
   "source": [
    "matrix = np.array(ind.reshape2matrix(NUM_NODES))\n",
    "n = matrix.shape[0]\n",
    "matrix[range(n), range(n)] = \"0\"\n",
    "shape = matrix.shape\n",
    "result = np.zeros(shape, dtype=int)\n",
    "for x in range(0, shape[0]):\n",
    "    for y in range(0, shape[1]):\n",
    "        result[x, y] = str(matrix[x, y])[0:2]\n",
    "g = nx.from_numpy_matrix(matrix, create_using=nx.DiGraph)\n",
    "draw_graph(g, 0)"
   ]
  },
  {
   "cell_type": "markdown",
   "id": "0ba48f37",
   "metadata": {},
   "source": [
    "    3. Ottengo un MST classico con l'algoritmo di Prim"
   ]
  },
  {
   "cell_type": "code",
   "execution_count": 25,
   "id": "b94b7ba2",
   "metadata": {
    "pycharm": {
     "name": "#%%\n"
    }
   },
   "outputs": [
    {
     "data": {
      "image/png": "[encoded data removed]",
      "text/plain": [
       "<Figure size 432x288 with 1 Axes>"
      ]
     },
     "metadata": {
      "filenames": {
       "image/png": "C:\\Users\\DULLA\\PycharmProjects\\Thesis_Data_Analisys\\tesi-andi\\_build\\jupyter_execute\\chapters\\main_pipeline_50_0.png"
      }
     },
     "output_type": "display_data"
    },
    {
     "data": {
      "text/plain": [
       "<Figure size 864x864 with 0 Axes>"
      ]
     },
     "metadata": {},
     "output_type": "display_data"
    }
   ],
   "source": [
    "from CMST_package.population_generator import prim\n",
    "\n",
    "tree = prim(matrix)\n",
    "G = nx.Graph()\n",
    "tree = [arc for arc in tree if arc != (0, 0)]\n",
    "G.add_edges_from(tree)\n",
    "draw_graph(G, 1)"
   ]
  },
  {
   "cell_type": "markdown",
   "id": "fa131e2e",
   "metadata": {},
   "source": [
    "    4. Conto i nodi che ci sono in ogni ramo con una procedura breadth-first search, realizzando un primo prototipo della funzione $R(\\mathbf{x})$"
   ]
  },
  {
   "cell_type": "code",
   "execution_count": 26,
   "id": "308b918f",
   "metadata": {
    "pycharm": {
     "name": "#%%\n"
    }
   },
   "outputs": [
    {
     "name": "stdout",
     "output_type": "stream",
     "text": [
      "Dal nodo radice 1 ho 6 nodi\n",
      "Violato il vincolo di capacità!! Ho 6 nodi nell'arco (1, 6) arco invece che 4 \n"
     ]
    }
   ],
   "source": [
    "# Depth first search starting from ROOT\n",
    "over_capacity = False\n",
    "ROOT = 1\n",
    "tree_final = []\n",
    "for edge in tree:\n",
    "    temp_weight = 0\n",
    "    if edge[0] == ROOT:\n",
    "        temp_weight = measure_branch(tree, edge[1], ROOT)\n",
    "        print(\"Dal nodo radice {0} ho {1} nodi\".format(ROOT, temp_weight))\n",
    "    elif edge[1] == ROOT:\n",
    "        temp_weight = measure_branch(tree, edge[0], ROOT)\n",
    "        print(\"Nodi incidenti nella radice----> {0}\".format(temp_weight))\n",
    "    if temp_weight > CAPACITY:\n",
    "        tree_final = tree\n",
    "        ind.fitness = MAXIMUM_FITNESS\n",
    "        over_capacity = True\n",
    "        print(\n",
    "            \"Violato il vincolo di capacità!! Ho {0} nodi nell'arco {1} arco invece che {2} \".format(temp_weight, edge,\n",
    "                                                                                                     CAPACITY))\n",
    "        break"
   ]
  },
  {
   "cell_type": "markdown",
   "id": "c3a58304",
   "metadata": {},
   "source": [
    "### Osservazioni\n",
    "\n",
    "Poiché questi genomi sono (per facilitare di test) aleatori, è probabile che si possano incontrare casi in cui un arco sia sovraccarico.\n",
    "Quando questo accade scatta la guardia situata nell'ultimo `if` e cioè:\n",
    "\n",
    "```\n",
    "python\n",
    "if temp_weight > CAPACITY:\n",
    "    tree_final = tree\n",
    "    ind.fitness = MAXIMUM_FITNESS\n",
    "    over_capacity = True\n",
    "    print(\"Violato il vincolo di capacità!! Ho {0} nodi nell'arco {1} arco invece che {2} \".format(temp_weight, edge, CAPACITY))\n",
    "    break\n",
    "```\n",
    "\n",
    "## Calcolo della fitness\n",
    "\n",
    "__Se__ il numero di nodi rispetta il vincolo di capacità si passa al calcolo del costo effettivo sulla _matrice_ _originale_ $\\sum_{(i,j) \\in A} c_{ij}x_{ij} $"
   ]
  },
  {
   "cell_type": "code",
   "execution_count": 27,
   "id": "22b16fea",
   "metadata": {
    "pycharm": {
     "name": "#%%\n"
    }
   },
   "outputs": [
    {
     "name": "stdout",
     "output_type": "stream",
     "text": [
      "Non ho trovato soluzioni, riprova a lanciare l'algoritmo...\n"
     ]
    }
   ],
   "source": [
    "if not over_capacity:\n",
    "    weight = 0\n",
    "    for edge in tree:\n",
    "        (col, row) = edge\n",
    "        weight += matrix[col - 1][row - 1]\n",
    "    ind.tree = tree\n",
    "    ind.fitness = weight\n",
    "    print(\"Costo dell'albero soluzione: {0}\".format(weight))\n",
    "else:\n",
    "    print(\"Non ho trovato soluzioni, riprova a lanciare l'algoritmo...\")"
   ]
  },
  {
   "cell_type": "markdown",
   "id": "46ead0fb",
   "metadata": {},
   "source": [
    "### Osservazioni\n",
    "Anche qui bisogna precisare che mi sono allontanato leggermente dalla formulazione originale. Il costo $\\sum_{(i,j) \\in A} c_{ij}x_{ij} $ è calcolato sulla matrice\n",
    "originale, cioè quella data in input da ottimizzare, ma se l'individuo sotto esame ha un albero che non rispetta i vincoli di capacità allora gli\n",
    "viene assegnata una fitness massima (nel codice è uguale a `MAXIMUM_FITNESS`) e viene calcolato il costo comunque. Questo costo, che viene tradotto in\n",
    "fitness dalle funzioni `fitness_evaluation` e `measure_branch` sarà sopra al valore `MAXIMUM_FITNESS`, rendendo questo individuo inutile.\n",
    "* Per quale motivo tenere delle soluzioni che violano il vincolo di capacità?\n",
    "Poiché può succedere che nonostante tutte le iterazioni non riesco a generare un numero sufficiente di soluzioni ammissibili (per vederlo basta allargare la dimensione\n",
    "Hall of Fame e diminuire le iterazioni e si osservano soluzioni assurde addirittura con cicli...)\n",
    "* Come mi accorgo di avere una soluzione finale che viola questi vincoli?\n",
    "Basta osservare la sua fitness, se è pari a `MAXIMUM_FITNESS` allora la soluzione è inammissibile, oppure anche se non del tutto inammissibile (cioé mi accontento\n",
    "di qualcosa di papabile) questa soluzione sarà pessima. (Invito a provare con varie dimensioni di Hall of Fame e iterazioni nel loop evolutivo).\n",
    "\n",
    "## Operatore di crossover\n",
    "\n",
    "La mutazione a coppia implementata qui è un crossover uniforme. Per mostrare come opera questa funzione:\n",
    "\n",
    "> 1. Creazione di una popolazione iniziale (per l'implementazione del generatore di popolazioni si veda la documentazione)"
   ]
  },
  {
   "cell_type": "code",
   "execution_count": 28,
   "id": "7fdb797e",
   "metadata": {
    "pycharm": {
     "name": "#%%\n"
    }
   },
   "outputs": [],
   "source": [
    "from CMST_package.population_generator import generate_population\n",
    "\n",
    "individuals = generate_population(POP_SIZE + (POP_SIZE % 2), int(NUM_NODES * (NUM_NODES + 1) / 2))"
   ]
  },
  {
   "cell_type": "markdown",
   "id": "0bf45817",
   "metadata": {},
   "source": [
    "> 2. Selezione del gruppo che si accoppierà"
   ]
  },
  {
   "cell_type": "code",
   "execution_count": 29,
   "id": "beea9f99",
   "metadata": {
    "pycharm": {
     "name": "#%%\n"
    }
   },
   "outputs": [
    {
     "name": "stdout",
     "output_type": "stream",
     "text": [
      "Visualizzazione di un individuo a caso: 56 51 26 52 185 26 241 135 249 86 121 180 75 221 250 84 112 145 130 210 68 82 42 109 243 137 5 207 \n"
     ]
    }
   ],
   "source": [
    "group_A = list()\n",
    "group_B = list()\n",
    "\n",
    "# Selezione di chi si accoppia Tournament style\n",
    "mating_group = list()\n",
    "while len(mating_group) < len(individuals):\n",
    "    best = None\n",
    "    for i in range(TOURNAMENT_SIZE):\n",
    "        # Scegli un individuo a caso\n",
    "        ind = individuals[randint(0, len(individuals) - 1)]\n",
    "        # Se l'individuo scelto a caso ha una fitness maggiore -> prendilo\n",
    "        if best is None or ind.fitness > best.fitness:\n",
    "            best = ind\n",
    "    mating_group.append(best)\n",
    "print(\"Visualizzazione di un individuo a caso: {0}\".format(mating_group[1]))"
   ]
  },
  {
   "cell_type": "markdown",
   "id": "ac62b8c3",
   "metadata": {},
   "source": [
    "> 3. Estrazione a coppie dei genitori e ripopolazione della \"lista padri\" e della \"lista madri\""
   ]
  },
  {
   "cell_type": "code",
   "execution_count": 30,
   "id": "972ed740",
   "metadata": {
    "pycharm": {
     "name": "#%%\n"
    }
   },
   "outputs": [],
   "source": [
    "while mating_group:\n",
    "    group_A.append(mating_group.pop())\n",
    "    group_B.append(mating_group.pop())"
   ]
  },
  {
   "cell_type": "markdown",
   "id": "74050b3c",
   "metadata": {},
   "source": [
    "> 4. Crossover"
   ]
  },
  {
   "cell_type": "code",
   "execution_count": 31,
   "id": "469cf5e4",
   "metadata": {
    "pycharm": {
     "name": "#%%\n"
    }
   },
   "outputs": [],
   "source": [
    "ret = list()\n",
    "for i in range(len(group_A)):\n",
    "    ind1 = group_A.pop()\n",
    "    ind2 = group_B.pop()\n",
    "    if random() < breeding_mutation_pb:\n",
    "        for i in range(randint(1, len(ind1))):\n",
    "            # Qui avviene lo scambio\n",
    "            temp = ind1[i]\n",
    "            ind1[i] = ind2[i]\n",
    "            ind2[i] = temp\n",
    "    ret.append(ind1)\n",
    "    ret.append(ind2)"
   ]
  },
  {
   "cell_type": "markdown",
   "id": "02ed4916",
   "metadata": {},
   "source": [
    "## Single Mutation\n",
    "\n",
    "In modo simile a come fatto per la mutazione a coppia si procede qui nella mutazione del singolo individuo. In pratica seleziono un gene (che qui\n",
    "sono i costi della lista di adiacenza) e li modifico in modo casuale in modo da cambiare il costo del singolo arco."
   ]
  },
  {
   "cell_type": "code",
   "execution_count": 32,
   "id": "d555952c",
   "metadata": {
    "pycharm": {
     "name": "#%%\n"
    }
   },
   "outputs": [
    {
     "name": "stdout",
     "output_type": "stream",
     "text": [
      "def self_mutation(individuals, mutation_pb):\n",
      "    \"\"\"\n",
      "    Self-mutation qui con questa funzione modifico il genotipo del singolo individuo, in pratica è come se gli\n",
      "    modificassi la matrice equivalente dei costi in modo casuale.\n",
      "    Potrei modificare un ramo, ma se così facessi otterrei una euristica di scambio (branch exchange heuristic).\n",
      "    Non seguo questa seconda strada (altrimenti otterrei qualcosa come Esau-Williams) modifico la matrice di adiacenza.\n",
      "\n",
      "    :param individuals: popolazione da mutare (in pratica un insieme di individui)\n",
      "    :param mutation_pb: probabilità di mutazione di un gene\n",
      "    :return:\n",
      "    \"\"\"\n",
      "    for individual in individuals:\n",
      "        for value in individual:\n",
      "            if random.random() < mutation_pb:\n",
      "                value = random.randrange(0, INDEX_RANGE)\n",
      "    return individuals\n",
      "\n"
     ]
    }
   ],
   "source": [
    "lines = inspect.getsource(self_mutation)\n",
    "print(lines)"
   ]
  },
  {
   "cell_type": "markdown",
   "id": "76a82428",
   "metadata": {},
   "source": [
    "Per dettagli e scelte implementative si veda la documentazione delle funzion, oppure il `help()` delle funzioni."
   ]
  }
 ],
 "metadata": {
  "jupytext": {
   "text_representation": {
    "extension": ".md",
    "format_name": "myst",
    "format_version": 0.13,
    "jupytext_version": "1.13.8"
   }
  },
  "kernelspec": {
   "display_name": "Python 3",
   "language": "python",
   "name": "python3"
  },
  "language_info": {
   "codemirror_mode": {
    "name": "ipython",
    "version": 3
   },
   "file_extension": ".py",
   "mimetype": "text/x-python",
   "name": "python",
   "nbconvert_exporter": "python",
   "pygments_lexer": "ipython3",
   "version": "3.8.0"
  },
  "source_map": [
   12,
   94,
   131,
   137,
   174,
   189,
   201,
   213,
   222,
   259,
   270,
   274,
   297,
   301,
   309,
   313,
   329,
   338,
   347,
   351,
   361,
   369,
   380,
   384,
   397,
   401,
   410,
   444,
   448,
   462,
   466,
   474,
   478,
   486,
   490,
   528,
   532,
   541,
   549,
   565,
   569,
   580,
   584,
   597,
   644,
   669,
   676,
   685,
   689,
   706,
   710,
   724,
   728,
   755,
   776,
   793,
   813,
   823,
   827,
   849,
   853,
   863,
   867,
   886,
   893,
   902
  ]
 },
 "nbformat": 4,
 "nbformat_minor": 5
}