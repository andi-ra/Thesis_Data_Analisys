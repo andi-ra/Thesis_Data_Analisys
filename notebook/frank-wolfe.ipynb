{
 "cells": [
  {
   "cell_type": "markdown",
   "metadata": {
    "collapsed": true,
    "pycharm": {
     "name": "#%% md\n"
    }
   },
   "source": [
    "# Metodo Frank & Wolfe\n",
    "Questo file risolve il problema dell'equilibrio su reti. Per la risoluzione di questo problema si usa\n",
    "l'algoritmo di Frank & Wolfe per la risoluzione del problema di ottimizzazione che ne deriva dal\n",
    "calcolo di equilibrio su reti. Non approfondisco le ipotesi che portano a questa formulazione,\n",
    "sono molto semplici."
   ]
  },
  {
   "cell_type": "code",
   "execution_count": 840,
   "outputs": [],
   "source": [
    "import numpy as np\n",
    "import sympy\n",
    "import sympy as sym\n",
    "from sympy import init_printing\n",
    "import warnings\n",
    "\n",
    "warnings.filterwarnings(\"ignore\", category=UserWarning)\n",
    "from IPython.display import display, Math\n",
    "\n",
    "x1, x2, x3 = sym.symbols('x1, x2, x3')\n",
    "x = sym.Matrix([[x1], [x2], [x3]])\n",
    "Q = sym.Matrix([[1, 0, 0], [0, 1, 0], [0, 0, 0.1]])\n",
    "c = sym.Matrix([[0], [0], [0.55]])"
   ],
   "metadata": {
    "collapsed": false,
    "pycharm": {
     "name": "#%%\n"
    }
   }
  },
  {
   "cell_type": "markdown",
   "source": [
    "Adesso posso visualizzare la funzione obiettivo come espressione bellina\n"
   ],
   "metadata": {
    "collapsed": false
   }
  },
  {
   "cell_type": "code",
   "execution_count": 841,
   "outputs": [
    {
     "data": {
      "text/plain": "⎡      2         2          2          ⎤\n⎣0.5⋅x₁  + 0.5⋅x₂  + 0.05⋅x₃  + 0.55⋅x₃⎦",
      "text/latex": "$\\displaystyle \\left[\\begin{matrix}0.5 x_{1}^{2} + 0.5 x_{2}^{2} + 0.05 x_{3}^{2} + 0.55 x_{3}\\end{matrix}\\right]$"
     },
     "execution_count": 841,
     "metadata": {},
     "output_type": "execute_result"
    }
   ],
   "source": [
    "init_printing()\n",
    "\n",
    "obj = 0.5 * (x.T * Q * x) + c.T * x\n",
    "obj"
   ],
   "metadata": {
    "collapsed": false,
    "pycharm": {
     "name": "#%%\n"
    }
   }
  },
  {
   "cell_type": "markdown",
   "source": [
    "Adesso visualizzo anche l'obiettivo al punto iniziale:"
   ],
   "metadata": {
    "collapsed": false
   }
  },
  {
   "cell_type": "code",
   "execution_count": 842,
   "outputs": [
    {
     "data": {
      "text/plain": "<IPython.core.display.Math object>",
      "text/latex": "$\\displaystyle D(x_0): 0.2945$"
     },
     "metadata": {},
     "output_type": "display_data"
    }
   ],
   "source": [
    "cost = obj.subs({x1: 0.4, x2: 0.3, x3: 0.3})\n",
    "display(Math(r'D(x_0): {:.4f}'.format(cost[0])))"
   ],
   "metadata": {
    "collapsed": false,
    "pycharm": {
     "name": "#%%\n"
    }
   }
  },
  {
   "cell_type": "markdown",
   "source": [
    "Adesso posso visualizzare la funzione con lo step size e l'aggiornamento"
   ],
   "metadata": {
    "collapsed": false
   }
  },
  {
   "cell_type": "code",
   "execution_count": 843,
   "outputs": [
    {
     "data": {
      "text/plain": "<IPython.core.display.Math object>",
      "text/latex": "$\\displaystyle d_k: $"
     },
     "metadata": {},
     "output_type": "display_data"
    },
    {
     "data": {
      "text/plain": "⎡\\overline{x_1} - x₁⎤\n⎢                   ⎥\n⎢\\overline{x_2} - x₂⎥\n⎢                   ⎥\n⎣\\overline{x_3} - x₃⎦",
      "text/latex": "$\\displaystyle \\left[\\begin{matrix}\\overline{x_1} - x_{1}\\\\\\overline{x_2} - x_{2}\\\\\\overline{x_3} - x_{3}\\end{matrix}\\right]$"
     },
     "execution_count": 843,
     "metadata": {},
     "output_type": "execute_result"
    }
   ],
   "source": [
    "x1_bar, x2_bar, x3_bar = sym.symbols('\\overline{x_1}, \\overline{x_2}, \\overline{x_3}')\n",
    "x_bar = sym.Matrix([[x1_bar], [x2_bar], [x3_bar]])\n",
    "d_k = x_bar - x\n",
    "display(Math(r'd_k: '))\n",
    "d_k"
   ],
   "metadata": {
    "collapsed": false,
    "pycharm": {
     "name": "#%%\n"
    }
   }
  },
  {
   "cell_type": "markdown",
   "source": [
    "Adesso visualizzo il punto iniziale e mi calcolo il nuovo punto"
   ],
   "metadata": {
    "collapsed": false
   }
  },
  {
   "cell_type": "code",
   "execution_count": 844,
   "outputs": [
    {
     "data": {
      "text/plain": "<IPython.core.display.Math object>",
      "text/latex": "$\\displaystyle x_{k+1}: $"
     },
     "metadata": {},
     "output_type": "display_data"
    },
    {
     "data": {
      "text/plain": "⎡\\alpha⋅(\\overline{x_1} - x₁) + x₁⎤\n⎢                                 ⎥\n⎢\\alpha⋅(\\overline{x_2} - x₂) + x₂⎥\n⎢                                 ⎥\n⎣\\alpha⋅(\\overline{x_3} - x₃) + x₃⎦",
      "text/latex": "$\\displaystyle \\left[\\begin{matrix}\\alpha \\left(\\overline{x_1} - x_{1}\\right) + x_{1}\\\\\\alpha \\left(\\overline{x_2} - x_{2}\\right) + x_{2}\\\\\\alpha \\left(\\overline{x_3} - x_{3}\\right) + x_{3}\\end{matrix}\\right]$"
     },
     "execution_count": 844,
     "metadata": {},
     "output_type": "execute_result"
    }
   ],
   "source": [
    "a = sym.symbols('\\\\alpha')\n",
    "x_k = x + a * d_k\n",
    "\n",
    "display(Math(r'x_{k+1}: '))\n",
    "x_k"
   ],
   "metadata": {
    "collapsed": false,
    "pycharm": {
     "name": "#%%\n"
    }
   }
  },
  {
   "cell_type": "markdown",
   "source": [
    "Adesso mi calcolo il gradiente"
   ],
   "metadata": {
    "collapsed": false,
    "pycharm": {
     "name": "#%% md\n"
    }
   }
  },
  {
   "cell_type": "code",
   "execution_count": 845,
   "outputs": [
    {
     "data": {
      "text/plain": "<IPython.core.display.Math object>",
      "text/latex": "$\\displaystyle \\nabla: $"
     },
     "metadata": {},
     "output_type": "display_data"
    },
    {
     "data": {
      "text/plain": "⎡     x₁      ⎤\n⎢             ⎥\n⎢     x₂      ⎥\n⎢             ⎥\n⎣0.1⋅x₃ + 0.55⎦",
      "text/latex": "$\\displaystyle \\left[\\begin{matrix}x_{1}\\\\x_{2}\\\\0.1 x_{3} + 0.55\\end{matrix}\\right]$"
     },
     "execution_count": 845,
     "metadata": {},
     "output_type": "execute_result"
    }
   ],
   "source": [
    "grad = x.T * Q + c.T\n",
    "display(Math(r'\\nabla: '))\n",
    "grad.T"
   ],
   "metadata": {
    "collapsed": false,
    "pycharm": {
     "name": "#%%\n"
    }
   }
  },
  {
   "cell_type": "markdown",
   "source": [
    "Adesso mi calcolo ${\\alpha}$ come forma chiusa e nella cella successiva sostituisco i valori:"
   ],
   "metadata": {
    "collapsed": false
   }
  },
  {
   "cell_type": "code",
   "execution_count": 846,
   "outputs": [
    {
     "data": {
      "text/plain": "⎡     -x₁⋅(\\overline{x_1} - x₁) - x₂⋅(\\overline{x_2} - x₂) - (\\overline{x_3} -\n⎢─────────────────────────────────────────────────────────────────────────────\n⎢                     2                        2                              \n⎣(\\overline{x_1} - x₁)  + (\\overline{x_2} - x₂)  + (0.1⋅\\overline{x_3} - 0.1⋅x\n\n x₃)⋅(0.1⋅x₃ + 0.55)    ⎤\n────────────────────────⎥\n                        ⎥\n₃)⋅(\\overline{x_3} - x₃)⎦",
      "text/latex": "$\\displaystyle \\left[\\begin{matrix}\\frac{- x_{1} \\left(\\overline{x_1} - x_{1}\\right) - x_{2} \\left(\\overline{x_2} - x_{2}\\right) - \\left(\\overline{x_3} - x_{3}\\right) \\left(0.1 x_{3} + 0.55\\right)}{\\left(\\overline{x_1} - x_{1}\\right)^{2} + \\left(\\overline{x_2} - x_{2}\\right)^{2} + \\left(0.1 \\overline{x_3} - 0.1 x_{3}\\right) \\left(\\overline{x_3} - x_{3}\\right)}\\end{matrix}\\right]$"
     },
     "execution_count": 846,
     "metadata": {},
     "output_type": "execute_result"
    }
   ],
   "source": [
    "alpha = -(grad * d_k) / (d_k.T * Q * d_k)[0]\n",
    "alpha"
   ],
   "metadata": {
    "collapsed": false,
    "pycharm": {
     "name": "#%%\n"
    }
   }
  },
  {
   "cell_type": "markdown",
   "source": [
    "Adesso sostituisco i valori e verifico:\n",
    "\n",
    "    1. I valori tornano con Gallagher\n",
    "    2. La direzione scelta con Q\n",
    "    3. Calcolo del nuovo punto con il quale calcolare la direzione di discesa\n",
    "\\begin{align} \\overline{x}_{k+1} = argmin {<\\nabla f(x_k), x>} \\quad \\forall\t x \\in C \\end{align}\n",
    "\n",
    "Punto iniziale scelto per far partire l'algoritmo, uso il seguente:"
   ],
   "metadata": {
    "collapsed": false,
    "pycharm": {
     "name": "#%% md\n"
    }
   }
  },
  {
   "cell_type": "code",
   "execution_count": 847,
   "outputs": [
    {
     "data": {
      "text/plain": "⎡0.4⎤\n⎢   ⎥\n⎢0.3⎥\n⎢   ⎥\n⎣0.3⎦",
      "text/latex": "$\\displaystyle \\left[\\begin{matrix}0.4\\\\0.3\\\\0.3\\end{matrix}\\right]$"
     },
     "execution_count": 847,
     "metadata": {},
     "output_type": "execute_result"
    }
   ],
   "source": [
    "result_x = x.subs({x1: 0.4, x2: 0.3, x3: 0.3})\n",
    "result_x"
   ],
   "metadata": {
    "collapsed": false,
    "pycharm": {
     "name": "#%%\n"
    }
   }
  },
  {
   "cell_type": "markdown",
   "source": [
    "Uso questa soluzione iniziale:"
   ],
   "metadata": {
    "collapsed": false,
    "pycharm": {
     "name": "#%% md\n"
    }
   }
  },
  {
   "cell_type": "code",
   "execution_count": 848,
   "outputs": [
    {
     "data": {
      "text/plain": "⎡1⎤\n⎢ ⎥\n⎢0⎥\n⎢ ⎥\n⎣0⎦",
      "text/latex": "$\\displaystyle \\left[\\begin{matrix}1\\\\0\\\\0\\end{matrix}\\right]$"
     },
     "execution_count": 848,
     "metadata": {},
     "output_type": "execute_result"
    }
   ],
   "source": [
    "result_x_bar = x_bar.subs({x1_bar: 1, x2_bar: 0, x3_bar: 0})\n",
    "result_x_bar"
   ],
   "metadata": {
    "collapsed": false,
    "pycharm": {
     "name": "#%%\n"
    }
   }
  },
  {
   "cell_type": "markdown",
   "source": [
    "Mi calcolo la nuova direzione"
   ],
   "metadata": {
    "collapsed": false
   }
  },
  {
   "cell_type": "code",
   "execution_count": 849,
   "outputs": [
    {
     "data": {
      "text/plain": "⎡0.6 ⎤\n⎢    ⎥\n⎢-0.3⎥\n⎢    ⎥\n⎣-0.3⎦",
      "text/latex": "$\\displaystyle \\left[\\begin{matrix}0.6\\\\-0.3\\\\-0.3\\end{matrix}\\right]$"
     },
     "execution_count": 849,
     "metadata": {},
     "output_type": "execute_result"
    }
   ],
   "source": [
    "result_d_k = d_k.subs({x1: 0.4, x2: 0.3, x3: 0.3, x1_bar: 1, x2_bar: 0, x3_bar: 0})\n",
    "result_d_k"
   ],
   "metadata": {
    "collapsed": false,
    "pycharm": {
     "name": "#%%\n"
    }
   }
  },
  {
   "cell_type": "markdown",
   "source": [
    "Adesso mi calcolo lo step size con la line minimization"
   ],
   "metadata": {
    "collapsed": false
   }
  },
  {
   "cell_type": "code",
   "execution_count": 850,
   "outputs": [
    {
     "data": {
      "text/plain": "[0.0522875816993464]",
      "text/latex": "$\\displaystyle \\left[\\begin{matrix}0.0522875816993464\\end{matrix}\\right]$"
     },
     "execution_count": 850,
     "metadata": {},
     "output_type": "execute_result"
    }
   ],
   "source": [
    "step_result = alpha.subs({x1: 0.4, x2: 0.3, x3: 0.3, x1_bar: 1, x2_bar: 0, x3_bar: 0})\n",
    "step_result"
   ],
   "metadata": {
    "collapsed": false,
    "pycharm": {
     "name": "#%%\n"
    }
   }
  },
  {
   "cell_type": "markdown",
   "source": [
    "Il nuovo punto è"
   ],
   "metadata": {
    "collapsed": false
   }
  },
  {
   "cell_type": "code",
   "execution_count": 851,
   "outputs": [
    {
     "data": {
      "text/plain": "array([[0.431372549019608],\n       [0.284313725490196],\n       [0.284313725490196]], dtype=object)"
     },
     "execution_count": 851,
     "metadata": {},
     "output_type": "execute_result"
    }
   ],
   "source": [
    "calc_x = np.array(x.subs({x1: 0.4, x2: 0.3, x3: 0.3}))\n",
    "calc_a = np.array(a.subs({a: step_result}))\n",
    "calc_d_k = np.array(d_k.subs({x1: 0.4, x2: 0.3, x3: 0.3, x1_bar: 1, x2_bar: 0, x3_bar: 0}))\n",
    "new_point = calc_x + calc_a * calc_d_k\n",
    "new_point"
   ],
   "metadata": {
    "collapsed": false,
    "pycharm": {
     "name": "#%%\n"
    }
   }
  },
  {
   "cell_type": "markdown",
   "source": [
    "#### Seconda iterazione\n",
    "Adesso inizio con la nuova iterazione. Inizio col punto che mi sono appena calcolato e pongo:\n",
    "\n",
    "\\begin{align} \\overline{x}_{1} = argmin {<\\nabla f(x_0), x>} \\quad \\forall\t x \\in C \\end{align}\n",
    "\n",
    "Questo me lo calcolo con le condizioni KKT per i problemi con vincoli di simplesso. Dunque il nuovo punto che userò è\n",
    "soluzione del seguente problema\n",
    "\n",
    "\\begin{align} minimize \\sum_{i=1}^{n} \\frac{\\partial f(x_{k})}{\\partial x_{i}}(x_{i}-x_{i}^k) \\\\ st\n",
    "\\sum_{i=1}^{n} x_{i} = 1\n",
    "\\end{align}\n",
    "\n",
    "La soluzione a questo problema è un punto $\\bar{x}_{k} $ il quale ha tutte le coordinate uguali\n",
    "a zero eccezione fatta per una sola coordinata la quale è uguale ad 1. La j-esima coordinata corrisponde a quella\n",
    "coordinata con valore minimo di derivata (vedi le condizioni di KKT per il problema)\n",
    "\n",
    "\\begin{align} j = argmin \\frac{\\partial f(x_{k})}{\\partial x_{i}}\\quad \\forall i =1 ... n \\end{align}"
   ],
   "metadata": {
    "collapsed": false
   }
  },
  {
   "cell_type": "code",
   "execution_count": 852,
   "outputs": [
    {
     "data": {
      "text/plain": "<IPython.core.display.Math object>",
      "text/latex": "$\\displaystyle \\nabla f(x_1): $"
     },
     "metadata": {},
     "output_type": "display_data"
    },
    {
     "data": {
      "text/plain": "[0.431372549019608  0.284313725490196  0.57843137254902]",
      "text/latex": "$\\displaystyle \\left[\\begin{matrix}0.431372549019608 & 0.284313725490196 & 0.57843137254902\\end{matrix}\\right]$"
     },
     "execution_count": 852,
     "metadata": {},
     "output_type": "execute_result"
    }
   ],
   "source": [
    "gradient = grad.subs({x1: new_point[0][0], x2: new_point[1][0], x3: new_point[2][0]})\n",
    "display(Math(r'\\nabla f(x_1): '))\n",
    "gradient"
   ],
   "metadata": {
    "collapsed": false,
    "pycharm": {
     "name": "#%%\n"
    }
   }
  },
  {
   "cell_type": "markdown",
   "source": [
    "Adesso applico le KKT e calcolo il nuovo punto che userò per la direzione di discesa\n",
    "\n",
    "idx_oracle = np.argmax(np.abs(grad))\n",
    "mag_oracle = alpha * np.sign(-grad[idx_oracle])"
   ],
   "metadata": {
    "collapsed": false
   }
  },
  {
   "cell_type": "markdown",
   "source": [
    "Definisco la per il singolo step dell'iterazione poi la lancio dalla funzione FW (principale)"
   ],
   "metadata": {
    "collapsed": false
   }
  },
  {
   "cell_type": "code",
   "execution_count": 853,
   "outputs": [],
   "source": [
    "def step_iteration(x_k: np.ndarray):\n",
    "    grad = (x_k.T.dot(Q) + c.T).ravel()\n",
    "    idx_oracle = np.argmin(np.abs(grad))\n",
    "    mag_oracle = np.sign(grad[idx_oracle])\n",
    "    d_t = -x_k.copy()\n",
    "    d_t[idx_oracle] += mag_oracle\n",
    "    g_t = - d_t.T.dot(grad).ravel()\n",
    "    step_size = -grad.dot(d_t) / (d_t.T.dot(Q)).dot(d_t)\n",
    "    step_size = np.minimum(step_size, 1.)\n",
    "    x_k = x_k + step_size * d_t\n",
    "    return x_k, g_t, d_t"
   ],
   "metadata": {
    "collapsed": false,
    "pycharm": {
     "name": "#%%\n"
    }
   }
  },
  {
   "cell_type": "markdown",
   "source": [
    "Questa è la funzione principale in cui metto tutto insieme"
   ],
   "metadata": {
    "collapsed": false
   }
  },
  {
   "cell_type": "code",
   "execution_count": 854,
   "outputs": [],
   "source": [
    "Q = np.array([[1, 0, 0], [0, 1, 0], [0, 0, 0.1]])\n",
    "c = np.array([[0], [0], [0.55]])"
   ],
   "metadata": {
    "collapsed": false,
    "pycharm": {
     "name": "#%%\n"
    }
   }
  },
  {
   "cell_type": "markdown",
   "source": [
    "Esecuzione e test obiettivo, direzione se è di discesa, certificato duale"
   ],
   "metadata": {
    "collapsed": false
   }
  },
  {
   "cell_type": "code",
   "execution_count": 855,
   "outputs": [
    {
     "data": {
      "text/plain": "<IPython.core.display.Math object>",
      "text/latex": "$\\displaystyle <\\nabla f(x_2),d_2> : -0.1240$"
     },
     "metadata": {},
     "output_type": "display_data"
    },
    {
     "data": {
      "text/plain": "<IPython.core.display.Math object>",
      "text/latex": "$\\displaystyle Dual(x_2): 0.1240$"
     },
     "metadata": {},
     "output_type": "display_data"
    },
    {
     "name": "stdout",
     "output_type": "stream",
     "text": [
      "Direzione di discesa: \n",
      "[[-0.4]\n",
      " [ 0.7]\n",
      " [-0.3]]\n",
      "Punto calcolato\n",
      "[[0.32473445]\n",
      " [0.43171472]\n",
      " [0.24355083]]\n"
     ]
    }
   ],
   "source": [
    "x_k = np.array([[0.4], [0.3], [0.3]])\n",
    "s_k = np.array([[1], [0], [0]])\n",
    "grad = x_k.T.dot(Q) + c.T\n",
    "point, dual_value, direction = step_iteration(x_k)\n",
    "display(Math(r'<\\nabla f(x_2),d_2> : {:.4f}'.format(direction.T.dot(grad.T).ravel()[0])))\n",
    "display(Math(r'Dual(x_2): {:.4f}'.format(dual_value.ravel()[0])))\n",
    "print(\"Direzione di discesa: \")\n",
    "print(direction)\n",
    "print(\"Punto calcolato\")\n",
    "print(point)"
   ],
   "metadata": {
    "collapsed": false,
    "pycharm": {
     "name": "#%%\n"
    }
   }
  },
  {
   "cell_type": "code",
   "execution_count": 856,
   "outputs": [
    {
     "data": {
      "text/plain": "<IPython.core.display.Math object>",
      "text/latex": "$\\displaystyle <\\nabla f(x_3),d_3> : -0.0526$"
     },
     "metadata": {},
     "output_type": "display_data"
    },
    {
     "data": {
      "text/plain": "<IPython.core.display.Math object>",
      "text/latex": "$\\displaystyle Dual(x_3): 0.0013$"
     },
     "metadata": {},
     "output_type": "display_data"
    },
    {
     "name": "stdout",
     "output_type": "stream",
     "text": [
      "Direzione di discesa: \n",
      "[[-0.4950977 ]\n",
      " [ 0.50615651]\n",
      " [-0.01105881]]\n",
      "Punto calcolato\n",
      "[[0.49385908]\n",
      " [0.49510978]\n",
      " [0.01103114]]\n"
     ]
    },
    {
     "data": {
      "text/plain": "<IPython.core.display.Math object>",
      "text/latex": "$\\displaystyle Objective(x_3): 0.2506$"
     },
     "metadata": {},
     "output_type": "display_data"
    }
   ],
   "source": [
    "for i in range(1,321):\n",
    "    point, dual_value, direction = step_iteration(point)\n",
    "display(Math(r'<\\nabla f(x_3),d_3> : {:.4f}'.format(direction.T.dot(grad.T).ravel()[0])))\n",
    "display(Math(r'Dual(x_3): {:.4f}'.format(dual_value.ravel()[0])))\n",
    "print(\"Direzione di discesa: \")\n",
    "print(direction)\n",
    "print(\"Punto calcolato\")\n",
    "print(point)\n",
    "obj = 0.5*(point.T.dot(Q)).dot(point) + c.T.dot(point)\n",
    "display(Math(r'Objective(x_3): {:.4f}'.format(obj.ravel()[0])))\n"
   ],
   "metadata": {
    "collapsed": false,
    "pycharm": {
     "name": "#%%\n"
    }
   }
  }
 ],
 "metadata": {
  "kernelspec": {
   "display_name": "Python 3",
   "language": "python",
   "name": "python3"
  },
  "language_info": {
   "codemirror_mode": {
    "name": "ipython",
    "version": 2
   },
   "file_extension": ".py",
   "mimetype": "text/x-python",
   "name": "python",
   "nbconvert_exporter": "python",
   "pygments_lexer": "ipython2",
   "version": "2.7.6"
  }
 },
 "nbformat": 4,
 "nbformat_minor": 0
}