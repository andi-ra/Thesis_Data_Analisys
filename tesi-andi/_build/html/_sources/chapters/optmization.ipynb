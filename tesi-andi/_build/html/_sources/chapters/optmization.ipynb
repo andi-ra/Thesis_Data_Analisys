{
 "cells": [
  {
   "cell_type": "markdown",
   "id": "79da4f74",
   "metadata": {},
   "source": [
    "# Ingegnerizzazione del traffico\n",
    "\n",
    "In questo capitolo vado a mostrare gli aspetti di modellazione del sistema, enunciare il problema e gli algoritmi proposti.\n",
    "\n",
    "## Introduzione\n",
    "\n",
    "Il routing in una rete è un'operazione complessa che coinvolge molti attori e protcolli che permettono l'organizzazione \n",
    "fra tutti questi componenti indipendenti fra di loro. Le ragioni della complessità sono molteplici:\n",
    "1. Il routing richiede un grado di coordinazione fra i vai nodi nella rete o nel segmento di rete considerato piuttosto \n",
    "che solo fra due nodi. Ad esempio pensiamo i protocolli di livello 2 e livello 4.\n",
    "2. L'architettura di routing deve risolvere tutti quei casi di guasti e malfunzionamenti dei collegamenti o dei nodi, \n",
    "redirezionare il traffico ed aggiornare i database informativi di ogni device.\n",
    "3. Per ottenere delle performance buone, l'algoritmo di routing può essere costretto a  modificare le sue rotte \n",
    "precedentemente calcolate quando parti o segmenti di rete diventano congestionati.\n",
    "\n",
    "### Difficoltà e obiettivi nel routing\n",
    "\n",
    "Le due funzioni principali di un algoritmo di routing sono:\n",
    "```{margin} Routing table\n",
    "È la struttura dati che un dispositivo ha al suo interno in cui troviamo una lista di destinatari, la distanza e come \n",
    "raggiungere quel preciso destinatario ed in più altre informazioni a seconda del protocollo finale che la userà \n",
    "```\n",
    "1. la selezione delle rotte fra le varie coppie origine destinazione\n",
    "2. la consegna dei messaggi alla corretta destinazione una volta scelta la rotta\n",
    "\n",
    "La seconda funzione può sembrare banale una volta usate le *routing table*. Ciò non è sempre vero, in quanto questo \n",
    "concetto è molto semplice nel caso che io possa fare affidamento sull'infrastruttura di rete. Nel caso in cui questo non\n",
    "sia vero e quindi io ho a che fare con una infrastruttura non affidabile, diventa fondamentale il modo in cui scelgo il\n",
    "next-hop. \n",
    "```{margin} Next-hop\n",
    "È il dispositivo successivo rispetto al device sotto esame, all'interno del percorso che unisce topologicamente due punti\n",
    "di interesse, ad esempio possono essere una coppia origine-destinazione\n",
    "```\n",
    "In quanto è possibile che 2 scelte diverse di next-hop portino allo stesso destinatario nella topologia, ma un\n",
    "next-hop è stato disconnesso poiché il collegamento prescelto non è più disponibile. Non mi concentro sulla seconda funzione\n",
    "e sul capire cosa succede nel caso che un collegamento non sia disponibile ma mi concentrerò sulla prima funzione e come \n",
    "influisce sulle performance della rete.\n",
    "\n",
    "Vi sono due metriche principali sulla performance di una rete che sono influenzati dall'algoritmo di routing:\n",
    "1. Throughput, la quantità di servizio offerta dalla rete\n",
    "2. Latenza media dei pacchetti, la qualità del servizio offerto dalla rete\n",
    "\n",
    "Il routing interagisce con il controllo di flusso per determinare queste metriche di performance attraverso un controllo\n",
    "a catena chiusa.\n",
    "\n",
    ":::{figure-md} markdown-fig\n",
    "<img src=\"../images/routing\\ e\\ flow\\ control.jpg\" alt=\"mcu\" class=\"bg-primary mb-1\" width=\"700px\">\n",
    "\n",
    "Interazione fra algoritmo di routing e controllo di flusso\n",
    ":::\n",
    "\n",
    "La legge che lega traffico offerto con throughput e carico rigettato la possiamo ricavare effettuando un taglio attorno \n",
    "ad un nodo ed andando ad imporre la legge di conservazione del flusso ottenendo:\n",
    "<br>$throughput \\quad = \\quad carico \\quad offerto  -  carico \\quad rigettato $ <br>\n",
    "Il traffico in ingresso nella rete e per cui viene accettata la richiesta di servizioavrà associata una latenza che \n",
    "dipenderà dalle rotte dall'algoritmo di routing. Un altro aspetto da considerare è che l'algoritmo di controllo del flusso\n",
    "opera cercando di trovare un bilanciamento fra throughput e latenza. L'euristica che governa questo equilibrio sta in \n",
    "questa osservazione: se prendiamo un modello M/M/1/k poiché ho introdotto una capacità finita all'interno del mio sistema\n",
    "ciò che ottengo per la latenza massima è questo: $o = \\frac{1-δ^k(k+1)+k \\cdot δ^{k+1}}{μ(1-δ^k)(1-δ)}$"
   ]
  }
 ],
 "metadata": {
  "jupytext": {
   "cell_metadata_filter": "-all",
   "formats": "md:myst",
   "text_representation": {
    "extension": ".md",
    "format_name": "myst",
    "format_version": 0.13,
    "jupytext_version": "1.11.5"
   }
  },
  "kernelspec": {
   "display_name": "Python 3",
   "language": "python",
   "name": "python3"
  },
  "language_info": {
   "codemirror_mode": {
    "name": "ipython",
    "version": 3
   },
   "file_extension": ".py",
   "mimetype": "text/x-python",
   "name": "python",
   "nbconvert_exporter": "python",
   "pygments_lexer": "ipython3",
   "version": "3.8.0"
  },
  "source_map": [
   14
  ]
 },
 "nbformat": 4,
 "nbformat_minor": 5
}